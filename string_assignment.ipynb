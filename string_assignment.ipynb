{
  "nbformat": 4,
  "nbformat_minor": 0,
  "metadata": {
    "colab": {
      "provenance": [],
      "authorship_tag": "ABX9TyOF6St7B4F/C0uPXWTn0pgz",
      "include_colab_link": true
    },
    "kernelspec": {
      "name": "python3",
      "display_name": "Python 3"
    },
    "language_info": {
      "name": "python"
    }
  },
  "cells": [
    {
      "cell_type": "markdown",
      "metadata": {
        "id": "view-in-github",
        "colab_type": "text"
      },
      "source": [
        "<a href=\"https://colab.research.google.com/github/amitporwal-data-science/Python-Programming/blob/main/string_assignment.ipynb\" target=\"_parent\"><img src=\"https://colab.research.google.com/assets/colab-badge.svg\" alt=\"Open In Colab\"/></a>"
      ]
    },
    {
      "cell_type": "markdown",
      "source": [
        "# Email Validator: Tests various email formats and returns True only for properly formatted addresses\n",
        "\n",
        "# validate_email(\"user@example.com\")"
      ],
      "metadata": {
        "id": "SBruD4Pdbxol"
      }
    },
    {
      "cell_type": "code",
      "source": [
        "def validate_email(email):\n",
        "  \"\"\"\n",
        "\n",
        "\n",
        "    Returns True if the email is valid, False otherwise.\n",
        "\n",
        "    Validation criteria:\n",
        "    - Contains exactly one @ symbol\n",
        "    - No spaces anywhere\n",
        "    - Has at least one dot in the domain part\n",
        "    - Has characters before @ (username)\n",
        "    - Has characters between @ and . (domain name)\n",
        "    - Has characters after the last . (domain extension)\n",
        "\n",
        "  \"\"\"\n",
        "\n",
        "  if ' ' in email:\n",
        "    return False\n",
        "\n",
        "  if email.count('@') !=1:\n",
        "    return False\n",
        "\n",
        "  try:\n",
        "    username, domain = email.split('@')\n",
        "  except ValueError:\n",
        "    return False\n",
        "\n",
        "  if not username:\n",
        "    return False\n",
        "\n",
        "  if '.' not in domain:\n",
        "    return False\n",
        "\n",
        "  try:\n",
        "    domain_parts = domain.split('.')\n",
        "  except ValueError:\n",
        "    return False\n",
        "\n",
        "  if not domain_parts[0]:\n",
        "    return False\n",
        "\n",
        "  if not domain_parts[-1]:\n",
        "    return False\n",
        "\n",
        "  return True"
      ],
      "metadata": {
        "id": "gQ7LaYjucOvb"
      },
      "execution_count": null,
      "outputs": []
    },
    {
      "cell_type": "markdown",
      "source": [
        "# Password Strength Checker: Rates passwords from \"Weak\" to \"Strong\" based on length and character diversity"
      ],
      "metadata": {
        "id": "1NT8cwMDpdd0"
      }
    },
    {
      "cell_type": "code",
      "source": [
        "def check_password_strength(password):\n",
        "    \"\"\"\n",
        "    Returns the strength of the password as a string: \"Weak\", \"Medium\", or \"Strong\"\n",
        "\n",
        "    Criteria:\n",
        "    - Weak: Less than 8 characters or missing character types\n",
        "    - Medium: At least 8 characters and at least 3 character types\n",
        "    - Strong: At least 8 characters and all 4 character types\n",
        "              (lowercase, uppercase, digits, special characters)\n",
        "    \"\"\"\n",
        "    # Check if password is too short\n",
        "    if len(password) < 8:\n",
        "        return \"Weak\"\n",
        "\n",
        "    # Initialize flags for character types\n",
        "    has_lowercase = False\n",
        "    has_uppercase = False\n",
        "    has_digit = False\n",
        "    has_special = False\n",
        "\n",
        "    # Special characters list\n",
        "    special_chars = \"!@#$%^&*()-_=+[]{}|;:'\\\",.<>/?\"\n",
        "\n",
        "    # Check each character in the password\n",
        "    for char in password:\n",
        "        if char.islower():\n",
        "            has_lowercase = True\n",
        "        elif char.isupper():\n",
        "            has_uppercase = True\n",
        "        elif char.isdigit():\n",
        "            has_digit = True\n",
        "        elif char in special_chars:\n",
        "            has_special = True\n",
        "\n",
        "    # Count how many character types are present\n",
        "    char_types_count = sum([has_lowercase, has_uppercase, has_digit, has_special])\n",
        "\n",
        "    # Rate the password\n",
        "    if char_types_count == 4:\n",
        "        return \"Strong\"\n",
        "    elif char_types_count >= 3:\n",
        "        return \"Medium\"\n",
        "    else:\n",
        "        return \"Weak\"\n",
        "\n",
        "\n",
        "def password_feedback_system():\n",
        "    \"\"\"\n",
        "    Interactive password system that provides feedback on password strength.\n",
        "    \"\"\"\n",
        "    print(\"Welcome to the Password Strength Checker\")\n",
        "    print(\"Your password should:\")\n",
        "    print(\"- Be at least 8 characters long\")\n",
        "    print(\"- Contain lowercase letters (a-z)\")\n",
        "    print(\"- Contain uppercase letters (A-Z)\")\n",
        "    print(\"- Contain numbers (0-9)\")\n",
        "    print(\"- Contain special characters (!@#$...)\\n\")\n",
        "\n",
        "    while True:\n",
        "        password = input(\"Enter a password (or 'q' to quit): \")\n",
        "\n",
        "        if password.lower() == 'q':\n",
        "            print(\"Thank you for using the Password Strength Checker!\")\n",
        "            break\n",
        "\n",
        "        strength = check_password_strength(password)\n",
        "        print(f\"Password strength: {strength}\")\n",
        "\n",
        "        # Provide specific feedback\n",
        "        if strength == \"Weak\":\n",
        "            print(\"Recommendations to improve:\")\n",
        "            if len(password) < 8:\n",
        "                print(\"- Make your password at least 8 characters long\")\n",
        "            if not any(c.islower() for c in password):\n",
        "                print(\"- Add lowercase letters (a-z)\")\n",
        "            if not any(c.isupper() for c in password):\n",
        "                print(\"- Add uppercase letters (A-Z)\")\n",
        "            if not any(c.isdigit() for c in password):\n",
        "                print(\"- Add numbers (0-9)\")\n",
        "            if not any(c in \"!@#$%^&*()-_=+[]{}|;:'\\\",.<>/?\" for c in password):\n",
        "                print(\"- Add special characters (!@#$...)\")\n",
        "        elif strength == \"Medium\":\n",
        "            print(\"Good password! Add more character variety for maximum security.\")\n",
        "        else:  # Strong\n",
        "            print(\"Excellent password! Your password meets all security criteria.\")\n",
        "\n",
        "        print()  # Add a blank line for readability\n",
        "\n",
        "\n",
        "# Run the password feedback system\n",
        "if __name__ == \"__main__\":\n",
        "    password_feedback_system()"
      ],
      "metadata": {
        "colab": {
          "base_uri": "https://localhost:8080/"
        },
        "id": "ddmbTO-8qK8E",
        "outputId": "a6f2b3af-ceee-4fa1-a530-dbd5390904a9"
      },
      "execution_count": 2,
      "outputs": [
        {
          "output_type": "stream",
          "name": "stdout",
          "text": [
            "Welcome to the Password Strength Checker\n",
            "Your password should:\n",
            "- Be at least 8 characters long\n",
            "- Contain lowercase letters (a-z)\n",
            "- Contain uppercase letters (A-Z)\n",
            "- Contain numbers (0-9)\n",
            "- Contain special characters (!@#$...)\n",
            "\n",
            "Enter a password (or 'q' to quit): sdh\n",
            "Password strength: Weak\n",
            "Recommendations to improve:\n",
            "- Make your password at least 8 characters long\n",
            "- Add uppercase letters (A-Z)\n",
            "- Add numbers (0-9)\n",
            "- Add special characters (!@#$...)\n",
            "\n",
            "Enter a password (or 'q' to quit): q\n",
            "Thank you for using the Password Strength Checker!\n"
          ]
        }
      ]
    },
    {
      "cell_type": "markdown",
      "source": [
        "# Find the longest word in a given sentence.\n",
        "\n",
        "### sentence = \"Data science is powerful and interesting\"\n",
        "### Output: \"interesting\"\n",
        "\n",
        "\n"
      ],
      "metadata": {
        "id": "BL9MJXyAFqBi"
      }
    },
    {
      "cell_type": "code",
      "source": [
        "sentence = \"Data science is powerful and interesting\"\n",
        "word_counter = 0\n",
        "\n",
        "for i in sentence.split():\n",
        "  if len(i)>word_counter:\n",
        "    word_counter = len(i)\n",
        "    longest_word = i\n",
        "print(longest_word)"
      ],
      "metadata": {
        "colab": {
          "base_uri": "https://localhost:8080/"
        },
        "id": "hdaQ_8mSFsUm",
        "outputId": "4cfdeac2-66ce-438d-d3e6-2705b61be598"
      },
      "execution_count": 9,
      "outputs": [
        {
          "output_type": "stream",
          "name": "stdout",
          "text": [
            "interesting\n"
          ]
        }
      ]
    },
    {
      "cell_type": "markdown",
      "source": [
        "# Check if a String is a Palindrome (Ignore Case & Spaces):\n",
        "\n",
        "### s = \"Was it a car or a cat I saw\"\n",
        "### Output: True\n"
      ],
      "metadata": {
        "id": "GKToJy7DG7if"
      }
    },
    {
      "cell_type": "code",
      "source": [
        "string = \"Was it a car or a cat I saw\"\n",
        "new_string = string.lower().replace(' ','')\n",
        "\n",
        "if new_string == new_string[::-1]:\n",
        "  print(True)\n",
        "else:\n",
        "  print(False)"
      ],
      "metadata": {
        "colab": {
          "base_uri": "https://localhost:8080/"
        },
        "id": "R_04oF9jF-Wu",
        "outputId": "b97840f9-4136-40f6-8b17-90b57dd4d711"
      },
      "execution_count": 11,
      "outputs": [
        {
          "output_type": "stream",
          "name": "stdout",
          "text": [
            "True\n"
          ]
        }
      ]
    },
    {
      "cell_type": "markdown",
      "source": [
        "# Return all characters that appear more than once in the string.\n",
        "\n",
        "### s = \"programming\"\n",
        "### Output: ['r', 'g', 'm']\n"
      ],
      "metadata": {
        "id": "Z-dK_8SDHoW2"
      }
    },
    {
      "cell_type": "code",
      "source": [
        "string = \"programming\"\n",
        "output = []\n",
        "\n",
        "for i in string:\n",
        "  if string.count(i)>1 and i not in output:\n",
        "    output.append(i)\n",
        "\n",
        "print(output)\n"
      ],
      "metadata": {
        "colab": {
          "base_uri": "https://localhost:8080/"
        },
        "id": "FJ4OsRoNHS09",
        "outputId": "2dc4e468-d624-48ab-ffb2-8088653ffd3d"
      },
      "execution_count": 15,
      "outputs": [
        {
          "output_type": "stream",
          "name": "stdout",
          "text": [
            "['r', 'g', 'm']\n"
          ]
        }
      ]
    },
    {
      "cell_type": "code",
      "source": [
        "from collections import Counter"
      ],
      "metadata": {
        "id": "n0KAj43AJdCQ"
      },
      "execution_count": 17,
      "outputs": []
    },
    {
      "cell_type": "code",
      "source": [
        "a = Counter('listen')"
      ],
      "metadata": {
        "id": "M4Hq0qo_JiHy"
      },
      "execution_count": 22,
      "outputs": []
    },
    {
      "cell_type": "code",
      "source": [
        "b = Counter('silent')"
      ],
      "metadata": {
        "id": "81BOuSt9JfZQ"
      },
      "execution_count": 23,
      "outputs": []
    },
    {
      "cell_type": "code",
      "source": [
        "print(a)\n",
        "print(b)\n",
        "a==b"
      ],
      "metadata": {
        "colab": {
          "base_uri": "https://localhost:8080/"
        },
        "id": "r4X3k7lkJ1pQ",
        "outputId": "384d5cc6-580e-459b-ec45-dd971b6f9c9d"
      },
      "execution_count": 24,
      "outputs": [
        {
          "output_type": "stream",
          "name": "stdout",
          "text": [
            "Counter({'l': 1, 'i': 1, 's': 1, 't': 1, 'e': 1, 'n': 1})\n",
            "Counter({'s': 1, 'i': 1, 'l': 1, 'e': 1, 'n': 1, 't': 1})\n"
          ]
        },
        {
          "output_type": "execute_result",
          "data": {
            "text/plain": [
              "True"
            ]
          },
          "metadata": {},
          "execution_count": 24
        }
      ]
    },
    {
      "cell_type": "code",
      "source": [
        "print(a==b)"
      ],
      "metadata": {
        "colab": {
          "base_uri": "https://localhost:8080/"
        },
        "id": "Z3Oxc_2lJ-dY",
        "outputId": "66d51bf0-5fbb-4871-a4cb-146cf68b5e19"
      },
      "execution_count": 25,
      "outputs": [
        {
          "output_type": "stream",
          "name": "stdout",
          "text": [
            "True\n"
          ]
        }
      ]
    },
    {
      "cell_type": "code",
      "source": [
        "sorted(\"listen\")"
      ],
      "metadata": {
        "colab": {
          "base_uri": "https://localhost:8080/"
        },
        "id": "xxE2SGoHKINy",
        "outputId": "4314e9ff-c6db-473b-9f47-8810b4c0160e"
      },
      "execution_count": 26,
      "outputs": [
        {
          "output_type": "execute_result",
          "data": {
            "text/plain": [
              "['e', 'i', 'l', 'n', 's', 't']"
            ]
          },
          "metadata": {},
          "execution_count": 26
        }
      ]
    },
    {
      "cell_type": "code",
      "source": [
        "sorted(\"silent\")"
      ],
      "metadata": {
        "colab": {
          "base_uri": "https://localhost:8080/"
        },
        "id": "oZ7zR8GrKP--",
        "outputId": "96a49ca5-6af1-4e30-b9fc-07aebefe161e"
      },
      "execution_count": 27,
      "outputs": [
        {
          "output_type": "execute_result",
          "data": {
            "text/plain": [
              "['e', 'i', 'l', 'n', 's', 't']"
            ]
          },
          "metadata": {},
          "execution_count": 27
        }
      ]
    },
    {
      "cell_type": "code",
      "source": [
        "new_lis = 'amitporwal'\n",
        "\n",
        "dict_ = dict()\n",
        "\n",
        "for i in new_lis:\n",
        "  if i in dict_:\n",
        "    dict_[i]+=1\n",
        "  else:\n",
        "    dict_[i] = 1\n",
        "print(dict_)"
      ],
      "metadata": {
        "colab": {
          "base_uri": "https://localhost:8080/"
        },
        "id": "eWXm210pKSjA",
        "outputId": "33a53d32-0ef4-48e3-cf76-46f587fd470a"
      },
      "execution_count": 28,
      "outputs": [
        {
          "output_type": "stream",
          "name": "stdout",
          "text": [
            "{'a': 2, 'm': 1, 'i': 1, 't': 1, 'p': 1, 'o': 1, 'r': 1, 'w': 1, 'l': 1}\n"
          ]
        }
      ]
    },
    {
      "cell_type": "code",
      "source": [],
      "metadata": {
        "id": "bUoQ9o4cLrUe"
      },
      "execution_count": null,
      "outputs": []
    }
  ]
}