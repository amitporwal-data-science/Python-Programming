{
  "nbformat": 4,
  "nbformat_minor": 0,
  "metadata": {
    "colab": {
      "provenance": [],
      "authorship_tag": "ABX9TyOcSztIzV4LGEJwlklqcfYw",
      "include_colab_link": true
    },
    "kernelspec": {
      "name": "python3",
      "display_name": "Python 3"
    },
    "language_info": {
      "name": "python"
    }
  },
  "cells": [
    {
      "cell_type": "markdown",
      "metadata": {
        "id": "view-in-github",
        "colab_type": "text"
      },
      "source": [
        "<a href=\"https://colab.research.google.com/github/amitporwal-data-science/Python-Programming/blob/main/list.ipynb\" target=\"_parent\"><img src=\"https://colab.research.google.com/assets/colab-badge.svg\" alt=\"Open In Colab\"/></a>"
      ]
    },
    {
      "cell_type": "markdown",
      "source": [
        "# list allow multiple datatypes inside the list"
      ],
      "metadata": {
        "id": "Yq6yrlN2bEmt"
      }
    },
    {
      "cell_type": "code",
      "source": [
        "a = [1,\"sumit\",5.7,[2,3],(4,5),{1,2,3},{\"name\":\"amit\"}]"
      ],
      "metadata": {
        "id": "iXVnRffPaa6T"
      },
      "execution_count": 28,
      "outputs": []
    },
    {
      "cell_type": "code",
      "source": [
        "a"
      ],
      "metadata": {
        "colab": {
          "base_uri": "https://localhost:8080/"
        },
        "id": "ig5cFJtmadws",
        "outputId": "cbcba95a-8cb8-467b-8cbf-51e75fb357b1"
      },
      "execution_count": 29,
      "outputs": [
        {
          "output_type": "execute_result",
          "data": {
            "text/plain": [
              "[1, 'sumit', 5.7, [2, 3], (4, 5), {1, 2, 3}, {'name': 'amit'}]"
            ]
          },
          "metadata": {},
          "execution_count": 29
        }
      ]
    },
    {
      "cell_type": "markdown",
      "source": [
        "# list is mutuble"
      ],
      "metadata": {
        "id": "Depnb7MZgzHJ"
      }
    },
    {
      "cell_type": "code",
      "source": [
        "a\n"
      ],
      "metadata": {
        "colab": {
          "base_uri": "https://localhost:8080/"
        },
        "id": "AHheM1Qecpb1",
        "outputId": "05176c49-805b-4510-c5cc-571cab1d3ea8"
      },
      "execution_count": 31,
      "outputs": [
        {
          "output_type": "execute_result",
          "data": {
            "text/plain": [
              "[1, 'sumit', 5.7, [2, 3], (4, 5), {1, 2, 3}, {'name': 'amit'}]"
            ]
          },
          "metadata": {},
          "execution_count": 31
        }
      ]
    },
    {
      "cell_type": "code",
      "source": [
        "id(a)"
      ],
      "metadata": {
        "colab": {
          "base_uri": "https://localhost:8080/"
        },
        "id": "AM2uvwRRg2Le",
        "outputId": "87f244b1-600e-421d-deed-de1f074af3b8"
      },
      "execution_count": 32,
      "outputs": [
        {
          "output_type": "execute_result",
          "data": {
            "text/plain": [
              "134790883658112"
            ]
          },
          "metadata": {},
          "execution_count": 32
        }
      ]
    },
    {
      "cell_type": "code",
      "source": [
        "a[1] = \"mohit\""
      ],
      "metadata": {
        "id": "J1d3Qf2Vg8A3"
      },
      "execution_count": 33,
      "outputs": []
    },
    {
      "cell_type": "code",
      "source": [
        "id(a)"
      ],
      "metadata": {
        "colab": {
          "base_uri": "https://localhost:8080/"
        },
        "id": "mRUTb6_uhBVb",
        "outputId": "e3cdb5e2-6fa9-4ffb-ad82-9311997af350"
      },
      "execution_count": 34,
      "outputs": [
        {
          "output_type": "execute_result",
          "data": {
            "text/plain": [
              "134790883658112"
            ]
          },
          "metadata": {},
          "execution_count": 34
        }
      ]
    },
    {
      "cell_type": "markdown",
      "source": [
        "# len / min / max / sum function"
      ],
      "metadata": {
        "id": "Aar1mJG6jbpD"
      }
    },
    {
      "cell_type": "code",
      "source": [
        "a = [1,2,3,5,6,7,8,9]"
      ],
      "metadata": {
        "id": "pUjxqonrjaJN"
      },
      "execution_count": 40,
      "outputs": []
    },
    {
      "cell_type": "code",
      "source": [
        "len(a)"
      ],
      "metadata": {
        "colab": {
          "base_uri": "https://localhost:8080/"
        },
        "id": "-3TmoWj4jayV",
        "outputId": "f5b489d1-d8c0-413c-bc78-03ea33fda0b4"
      },
      "execution_count": 41,
      "outputs": [
        {
          "output_type": "execute_result",
          "data": {
            "text/plain": [
              "8"
            ]
          },
          "metadata": {},
          "execution_count": 41
        }
      ]
    },
    {
      "cell_type": "code",
      "source": [
        "sum(a)"
      ],
      "metadata": {
        "colab": {
          "base_uri": "https://localhost:8080/"
        },
        "id": "QEUQFhgAjndq",
        "outputId": "a15dfddd-b845-48bb-e568-7e26895bc6e4"
      },
      "execution_count": 42,
      "outputs": [
        {
          "output_type": "execute_result",
          "data": {
            "text/plain": [
              "41"
            ]
          },
          "metadata": {},
          "execution_count": 42
        }
      ]
    },
    {
      "cell_type": "code",
      "source": [
        "min(a)"
      ],
      "metadata": {
        "colab": {
          "base_uri": "https://localhost:8080/"
        },
        "id": "PQsX67Irjobk",
        "outputId": "e7f77b58-5e49-4dd4-c2de-44978258d5aa"
      },
      "execution_count": 43,
      "outputs": [
        {
          "output_type": "execute_result",
          "data": {
            "text/plain": [
              "1"
            ]
          },
          "metadata": {},
          "execution_count": 43
        }
      ]
    },
    {
      "cell_type": "code",
      "source": [
        "max(a)"
      ],
      "metadata": {
        "colab": {
          "base_uri": "https://localhost:8080/"
        },
        "id": "TJ-t6QvxjpyQ",
        "outputId": "5f34221f-9be1-40cd-d2e2-0492d4da04f7"
      },
      "execution_count": 44,
      "outputs": [
        {
          "output_type": "execute_result",
          "data": {
            "text/plain": [
              "9"
            ]
          },
          "metadata": {},
          "execution_count": 44
        }
      ]
    },
    {
      "cell_type": "markdown",
      "source": [
        "# sorted fn"
      ],
      "metadata": {
        "id": "rJkfwj5Lmlc8"
      }
    },
    {
      "cell_type": "code",
      "source": [
        "a= [2,3,4,1,2,3,58,9,8]\n",
        "sorted(a)"
      ],
      "metadata": {
        "colab": {
          "base_uri": "https://localhost:8080/"
        },
        "id": "kv9CxlFcjrTc",
        "outputId": "a59f5c4c-9095-487b-b8b7-bdcc36843223"
      },
      "execution_count": 46,
      "outputs": [
        {
          "output_type": "execute_result",
          "data": {
            "text/plain": [
              "[1, 2, 2, 3, 3, 4, 8, 9, 58]"
            ]
          },
          "metadata": {},
          "execution_count": 46
        }
      ]
    },
    {
      "cell_type": "code",
      "source": [
        "a"
      ],
      "metadata": {
        "colab": {
          "base_uri": "https://localhost:8080/"
        },
        "id": "dPmhJIlwmrZU",
        "outputId": "41c00854-4b38-4aeb-91a4-a9b6c808da79"
      },
      "execution_count": 47,
      "outputs": [
        {
          "output_type": "execute_result",
          "data": {
            "text/plain": [
              "[2, 3, 4, 1, 2, 3, 58, 9, 8]"
            ]
          },
          "metadata": {},
          "execution_count": 47
        }
      ]
    },
    {
      "cell_type": "markdown",
      "source": [
        "# sort fn"
      ],
      "metadata": {
        "id": "oMNnEHcGnTtr"
      }
    },
    {
      "cell_type": "code",
      "source": [
        "a.sort(reverse= True)"
      ],
      "metadata": {
        "id": "Y8XtG2kcmulp"
      },
      "execution_count": 48,
      "outputs": []
    },
    {
      "cell_type": "code",
      "source": [
        "a"
      ],
      "metadata": {
        "colab": {
          "base_uri": "https://localhost:8080/"
        },
        "id": "Z6jVas-WnZnE",
        "outputId": "a0a6b56a-6786-4f58-85b8-1d899d756f87"
      },
      "execution_count": 49,
      "outputs": [
        {
          "output_type": "execute_result",
          "data": {
            "text/plain": [
              "[58, 9, 8, 4, 3, 3, 2, 2, 1]"
            ]
          },
          "metadata": {},
          "execution_count": 49
        }
      ]
    },
    {
      "cell_type": "markdown",
      "source": [
        "# append fn"
      ],
      "metadata": {
        "id": "pjRGxixZoZfN"
      }
    },
    {
      "cell_type": "code",
      "source": [
        "a"
      ],
      "metadata": {
        "colab": {
          "base_uri": "https://localhost:8080/"
        },
        "id": "sJB2xV65naMp",
        "outputId": "32db63f0-a0fd-4e2a-b671-6493029abcd1"
      },
      "execution_count": 50,
      "outputs": [
        {
          "output_type": "execute_result",
          "data": {
            "text/plain": [
              "[58, 9, 8, 4, 3, 3, 2, 2, 1]"
            ]
          },
          "metadata": {},
          "execution_count": 50
        }
      ]
    },
    {
      "cell_type": "code",
      "source": [
        "a.append(100)"
      ],
      "metadata": {
        "id": "Wf8qMMO7obM0"
      },
      "execution_count": 51,
      "outputs": []
    },
    {
      "cell_type": "code",
      "source": [
        "a"
      ],
      "metadata": {
        "colab": {
          "base_uri": "https://localhost:8080/"
        },
        "id": "DvV71aP-oeL3",
        "outputId": "145bcde5-33b8-473b-d475-7cae908b1913"
      },
      "execution_count": 52,
      "outputs": [
        {
          "output_type": "execute_result",
          "data": {
            "text/plain": [
              "[58, 9, 8, 4, 3, 3, 2, 2, 1, 100]"
            ]
          },
          "metadata": {},
          "execution_count": 52
        }
      ]
    },
    {
      "cell_type": "markdown",
      "source": [
        "# extend fn"
      ],
      "metadata": {
        "id": "GxKRX2nNpQhu"
      }
    },
    {
      "cell_type": "code",
      "source": [
        "a"
      ],
      "metadata": {
        "colab": {
          "base_uri": "https://localhost:8080/"
        },
        "id": "FYUv0pLsoen_",
        "outputId": "57a65929-0d22-4dd7-e699-fca16f44d90c"
      },
      "execution_count": 57,
      "outputs": [
        {
          "output_type": "execute_result",
          "data": {
            "text/plain": [
              "[58, 9, 8, 4, 3, 3, 2, 2, 1, 100, 6, 7, 8]"
            ]
          },
          "metadata": {},
          "execution_count": 57
        }
      ]
    },
    {
      "cell_type": "code",
      "source": [
        "b= [6,7,8]"
      ],
      "metadata": {
        "id": "3n3lpS6UpSm-"
      },
      "execution_count": 58,
      "outputs": []
    },
    {
      "cell_type": "code",
      "source": [
        "a.extend(b)"
      ],
      "metadata": {
        "id": "YpnkO_QUpWm3"
      },
      "execution_count": 59,
      "outputs": []
    },
    {
      "cell_type": "code",
      "source": [
        "a"
      ],
      "metadata": {
        "colab": {
          "base_uri": "https://localhost:8080/"
        },
        "id": "k2nUeO4QpYZB",
        "outputId": "10a5212c-551a-428f-aff3-048817d2d042"
      },
      "execution_count": 60,
      "outputs": [
        {
          "output_type": "execute_result",
          "data": {
            "text/plain": [
              "[58, 9, 8, 4, 3, 3, 2, 2, 1, 100, 6, 7, 8, 6, 7, 8]"
            ]
          },
          "metadata": {},
          "execution_count": 60
        }
      ]
    },
    {
      "cell_type": "markdown",
      "source": [
        "# merge 2 list without using extend fn"
      ],
      "metadata": {
        "id": "UsO4cHLMpsfX"
      }
    },
    {
      "cell_type": "code",
      "source": [
        "a = [1,2,3]\n",
        "b = [4,5,6]\n",
        "\n",
        "c = a+b"
      ],
      "metadata": {
        "id": "xSjiWrGCpZQp"
      },
      "execution_count": 61,
      "outputs": []
    },
    {
      "cell_type": "code",
      "source": [
        "c"
      ],
      "metadata": {
        "colab": {
          "base_uri": "https://localhost:8080/"
        },
        "id": "aBFKSrWgp2CU",
        "outputId": "1dd54004-6f81-4c8c-c480-5d138ff8864e"
      },
      "execution_count": 62,
      "outputs": [
        {
          "output_type": "execute_result",
          "data": {
            "text/plain": [
              "[1, 2, 3, 4, 5, 6]"
            ]
          },
          "metadata": {},
          "execution_count": 62
        }
      ]
    },
    {
      "cell_type": "markdown",
      "source": [
        "# insert fn"
      ],
      "metadata": {
        "id": "CDLnuoeGqNtY"
      }
    },
    {
      "cell_type": "code",
      "source": [
        "a = [2,3,4,5.5,\"amit\"]"
      ],
      "metadata": {
        "id": "feZkgHKRp2re"
      },
      "execution_count": 63,
      "outputs": []
    },
    {
      "cell_type": "code",
      "source": [
        "a.insert(0,5)"
      ],
      "metadata": {
        "id": "IO2iegjsqTIQ"
      },
      "execution_count": 64,
      "outputs": []
    },
    {
      "cell_type": "code",
      "source": [
        "a"
      ],
      "metadata": {
        "colab": {
          "base_uri": "https://localhost:8080/"
        },
        "id": "ptqdZ0wkqYTq",
        "outputId": "84e32009-4033-4d52-fe6a-bae4d3efa2fb"
      },
      "execution_count": 65,
      "outputs": [
        {
          "output_type": "execute_result",
          "data": {
            "text/plain": [
              "[5, 2, 3, 4, 5.5, 'amit']"
            ]
          },
          "metadata": {},
          "execution_count": 65
        }
      ]
    },
    {
      "cell_type": "markdown",
      "source": [
        "# reverse fn"
      ],
      "metadata": {
        "id": "Rb0keu0us6eo"
      }
    },
    {
      "cell_type": "code",
      "source": [
        "rohit_score = [20,100,50,90,34]\n",
        "rohit_score"
      ],
      "metadata": {
        "colab": {
          "base_uri": "https://localhost:8080/"
        },
        "id": "TiddghoaqYrT",
        "outputId": "10cdc994-462e-41cd-ec0b-5fad948a7154"
      },
      "execution_count": 66,
      "outputs": [
        {
          "output_type": "execute_result",
          "data": {
            "text/plain": [
              "[20, 100, 50, 90, 34]"
            ]
          },
          "metadata": {},
          "execution_count": 66
        }
      ]
    },
    {
      "cell_type": "code",
      "source": [
        "rohit_score.reverse()"
      ],
      "metadata": {
        "id": "SJM8LQNHtEdC"
      },
      "execution_count": 72,
      "outputs": []
    },
    {
      "cell_type": "code",
      "source": [
        "rohit_score"
      ],
      "metadata": {
        "colab": {
          "base_uri": "https://localhost:8080/"
        },
        "id": "-fJ88DkDtHLK",
        "outputId": "37e56b4f-8178-4b8d-8d83-f66d8285b148"
      },
      "execution_count": 73,
      "outputs": [
        {
          "output_type": "execute_result",
          "data": {
            "text/plain": [
              "[34, 90, 50, 100, 20]"
            ]
          },
          "metadata": {},
          "execution_count": 73
        }
      ]
    },
    {
      "cell_type": "markdown",
      "source": [
        "# count()"
      ],
      "metadata": {
        "id": "ivveCwk1t5No"
      }
    },
    {
      "cell_type": "code",
      "source": [
        "rohit_score.append(50)"
      ],
      "metadata": {
        "id": "OzXp8KjctJM8"
      },
      "execution_count": 74,
      "outputs": []
    },
    {
      "cell_type": "code",
      "source": [
        "rohit_score"
      ],
      "metadata": {
        "colab": {
          "base_uri": "https://localhost:8080/"
        },
        "id": "kN96saUduBfC",
        "outputId": "5bc9cadb-4a9d-423e-9dd2-41cfcabd179e"
      },
      "execution_count": 75,
      "outputs": [
        {
          "output_type": "execute_result",
          "data": {
            "text/plain": [
              "[34, 90, 50, 100, 20, 50]"
            ]
          },
          "metadata": {},
          "execution_count": 75
        }
      ]
    },
    {
      "cell_type": "code",
      "source": [
        "rohit_score.count(50)"
      ],
      "metadata": {
        "colab": {
          "base_uri": "https://localhost:8080/"
        },
        "id": "F0b5TT3OuCho",
        "outputId": "469f62f3-410e-47bb-f700-4f2efa718ccb"
      },
      "execution_count": 76,
      "outputs": [
        {
          "output_type": "execute_result",
          "data": {
            "text/plain": [
              "2"
            ]
          },
          "metadata": {},
          "execution_count": 76
        }
      ]
    },
    {
      "cell_type": "markdown",
      "source": [
        "# index()"
      ],
      "metadata": {
        "id": "YUe2jqxzuNEX"
      }
    },
    {
      "cell_type": "code",
      "source": [
        "rohit_score.index(50)"
      ],
      "metadata": {
        "colab": {
          "base_uri": "https://localhost:8080/"
        },
        "id": "qOYtC_sHuFub",
        "outputId": "681d36c9-ce08-4d65-f882-c49ad996a431"
      },
      "execution_count": 77,
      "outputs": [
        {
          "output_type": "execute_result",
          "data": {
            "text/plain": [
              "2"
            ]
          },
          "metadata": {},
          "execution_count": 77
        }
      ]
    },
    {
      "cell_type": "markdown",
      "source": [
        "# remove vs pop"
      ],
      "metadata": {
        "id": "016zZkn3uT7F"
      }
    },
    {
      "cell_type": "code",
      "source": [
        "rohit_score.remove(50)"
      ],
      "metadata": {
        "id": "g3DwV3IuuQNB"
      },
      "execution_count": 78,
      "outputs": []
    },
    {
      "cell_type": "code",
      "source": [
        "rohit_score"
      ],
      "metadata": {
        "colab": {
          "base_uri": "https://localhost:8080/"
        },
        "id": "YzA1gncyuY0z",
        "outputId": "c1b4c897-e4d9-4531-f88c-d5433406b377"
      },
      "execution_count": 79,
      "outputs": [
        {
          "output_type": "execute_result",
          "data": {
            "text/plain": [
              "[34, 90, 100, 20, 50]"
            ]
          },
          "metadata": {},
          "execution_count": 79
        }
      ]
    },
    {
      "cell_type": "code",
      "source": [
        "rohit_score.pop(0)"
      ],
      "metadata": {
        "colab": {
          "base_uri": "https://localhost:8080/"
        },
        "id": "qbK6CUPcuZty",
        "outputId": "08cde95b-770f-4b07-8776-28dd7d51fc46"
      },
      "execution_count": 80,
      "outputs": [
        {
          "output_type": "execute_result",
          "data": {
            "text/plain": [
              "34"
            ]
          },
          "metadata": {},
          "execution_count": 80
        }
      ]
    },
    {
      "cell_type": "code",
      "source": [
        "rohit_score"
      ],
      "metadata": {
        "colab": {
          "base_uri": "https://localhost:8080/"
        },
        "id": "DH2DF5eRuciu",
        "outputId": "a3eacd79-a001-40e5-852a-5827c4d81f6d"
      },
      "execution_count": 81,
      "outputs": [
        {
          "output_type": "execute_result",
          "data": {
            "text/plain": [
              "[90, 100, 20, 50]"
            ]
          },
          "metadata": {},
          "execution_count": 81
        }
      ]
    },
    {
      "cell_type": "markdown",
      "source": [
        "# reverse()"
      ],
      "metadata": {
        "id": "lXX_e6P5ugbt"
      }
    },
    {
      "cell_type": "code",
      "source": [
        "rohit_score.reverse()"
      ],
      "metadata": {
        "id": "l1H8LH95udyI"
      },
      "execution_count": 82,
      "outputs": []
    },
    {
      "cell_type": "code",
      "source": [
        "rohit_score"
      ],
      "metadata": {
        "colab": {
          "base_uri": "https://localhost:8080/"
        },
        "id": "h2Y73W7mujRp",
        "outputId": "e80990f9-fd5b-4e69-85e0-49d74914fb21"
      },
      "execution_count": 83,
      "outputs": [
        {
          "output_type": "execute_result",
          "data": {
            "text/plain": [
              "[50, 20, 100, 90]"
            ]
          },
          "metadata": {},
          "execution_count": 83
        }
      ]
    },
    {
      "cell_type": "markdown",
      "source": [
        "# clear()"
      ],
      "metadata": {
        "id": "1HtIOFKMuwrQ"
      }
    },
    {
      "cell_type": "code",
      "source": [
        "rohit_score.clear()"
      ],
      "metadata": {
        "id": "eDV6FoUtukSp"
      },
      "execution_count": 84,
      "outputs": []
    },
    {
      "cell_type": "code",
      "source": [
        "rohit_score"
      ],
      "metadata": {
        "colab": {
          "base_uri": "https://localhost:8080/"
        },
        "id": "cNCB5LwNuznL",
        "outputId": "660e9911-68c7-46a0-f3d8-8523f7ae6fd9"
      },
      "execution_count": 85,
      "outputs": [
        {
          "output_type": "execute_result",
          "data": {
            "text/plain": [
              "[]"
            ]
          },
          "metadata": {},
          "execution_count": 85
        }
      ]
    },
    {
      "cell_type": "markdown",
      "source": [
        "# nested list"
      ],
      "metadata": {
        "id": "In3GHrJ9vKbu"
      }
    },
    {
      "cell_type": "code",
      "source": [
        "my_list = [[1,2,3],[4,5,6],[7,8,9]]"
      ],
      "metadata": {
        "id": "y0Ntl9V2u0ko"
      },
      "execution_count": 86,
      "outputs": []
    },
    {
      "cell_type": "markdown",
      "source": [
        "# fetch 5 from my_list"
      ],
      "metadata": {
        "id": "CMrxbEE-vUM0"
      }
    },
    {
      "cell_type": "code",
      "source": [
        "my_list[1][1]"
      ],
      "metadata": {
        "colab": {
          "base_uri": "https://localhost:8080/"
        },
        "id": "HUBLwQ6xvSM-",
        "outputId": "af5d0a51-b292-4ec0-973b-65116b38783c"
      },
      "execution_count": 87,
      "outputs": [
        {
          "output_type": "execute_result",
          "data": {
            "text/plain": [
              "5"
            ]
          },
          "metadata": {},
          "execution_count": 87
        }
      ]
    },
    {
      "cell_type": "markdown",
      "source": [
        "# fetch 7 from my_list"
      ],
      "metadata": {
        "id": "4HIDMxfrvgxc"
      }
    },
    {
      "cell_type": "code",
      "source": [
        "my_list[2][0]"
      ],
      "metadata": {
        "colab": {
          "base_uri": "https://localhost:8080/"
        },
        "id": "pr3MrV2GvYz_",
        "outputId": "075d1b4e-35e3-4f82-b420-e3f3c91d6cf5"
      },
      "execution_count": 90,
      "outputs": [
        {
          "output_type": "execute_result",
          "data": {
            "text/plain": [
              "7"
            ]
          },
          "metadata": {},
          "execution_count": 90
        }
      ]
    }
  ]
}