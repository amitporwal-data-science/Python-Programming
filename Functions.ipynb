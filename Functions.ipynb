{
  "nbformat": 4,
  "nbformat_minor": 0,
  "metadata": {
    "colab": {
      "provenance": [],
      "authorship_tag": "ABX9TyPmzai1uI5J/4PauZuJcRvd",
      "include_colab_link": true
    },
    "kernelspec": {
      "name": "python3",
      "display_name": "Python 3"
    },
    "language_info": {
      "name": "python"
    }
  },
  "cells": [
    {
      "cell_type": "markdown",
      "metadata": {
        "id": "view-in-github",
        "colab_type": "text"
      },
      "source": [
        "<a href=\"https://colab.research.google.com/github/amitporwal-data-science/Python-Programming/blob/main/Functions.ipynb\" target=\"_parent\"><img src=\"https://colab.research.google.com/assets/colab-badge.svg\" alt=\"Open In Colab\"/></a>"
      ]
    },
    {
      "cell_type": "code",
      "execution_count": null,
      "metadata": {
        "id": "s-RIaSr7KQvm"
      },
      "outputs": [],
      "source": [
        "def greet_person(name):\n",
        "  return f\"Goodmorning {name}\""
      ]
    },
    {
      "cell_type": "code",
      "source": [
        "name = input()\n",
        "greet_person(name)"
      ],
      "metadata": {
        "colab": {
          "base_uri": "https://localhost:8080/",
          "height": 53
        },
        "id": "aUEiPMxARhmd",
        "outputId": "6daa43a9-5194-4ee4-f050-9f19d54dcfa2"
      },
      "execution_count": null,
      "outputs": [
        {
          "name": "stdout",
          "output_type": "stream",
          "text": [
            "manish\n"
          ]
        },
        {
          "output_type": "execute_result",
          "data": {
            "text/plain": [
              "'Goodmorning manish'"
            ],
            "application/vnd.google.colaboratory.intrinsic+json": {
              "type": "string"
            }
          },
          "metadata": {},
          "execution_count": 12
        }
      ]
    },
    {
      "cell_type": "code",
      "source": [
        "# positional arguments\n",
        "\n",
        "def greet(name, message):\n",
        "  return f\"{name} - {message}\"\n",
        "\n",
        "name = input()\n",
        "message = input()\n",
        "\n",
        "greet(name,message)"
      ],
      "metadata": {
        "colab": {
          "base_uri": "https://localhost:8080/",
          "height": 70
        },
        "id": "z_ux9-FcSPzK",
        "outputId": "76d18cbc-9641-4bc8-b534-170c05735307"
      },
      "execution_count": null,
      "outputs": [
        {
          "name": "stdout",
          "output_type": "stream",
          "text": [
            "Manish\n",
            "Good morning!\n"
          ]
        },
        {
          "output_type": "execute_result",
          "data": {
            "text/plain": [
              "'Manish - Good morning!'"
            ],
            "application/vnd.google.colaboratory.intrinsic+json": {
              "type": "string"
            }
          },
          "metadata": {},
          "execution_count": 15
        }
      ]
    },
    {
      "cell_type": "code",
      "source": [
        "# keyword arguments\n",
        "\n",
        "def greet(name, message):\n",
        "  return f\"{name} - {message}\"\n",
        "\n",
        "\n",
        "greet(message = 'How are you ?',name = 'Sam')"
      ],
      "metadata": {
        "colab": {
          "base_uri": "https://localhost:8080/",
          "height": 35
        },
        "id": "9euQHjlOScW6",
        "outputId": "5d0393b6-3fe5-4f26-9ecf-4288537c0976"
      },
      "execution_count": null,
      "outputs": [
        {
          "output_type": "execute_result",
          "data": {
            "text/plain": [
              "'Sam - How are you ?'"
            ],
            "application/vnd.google.colaboratory.intrinsic+json": {
              "type": "string"
            }
          },
          "metadata": {},
          "execution_count": 17
        }
      ]
    },
    {
      "cell_type": "code",
      "source": [
        "# default arguments\n",
        "\n",
        "def greet(name,messa = \"Good morning\"):\n",
        "  return f\"{name} - {messa}\"\n",
        "\n",
        "\n",
        "greet('Sam')"
      ],
      "metadata": {
        "colab": {
          "base_uri": "https://localhost:8080/",
          "height": 35
        },
        "id": "UTYKYlTGWKQN",
        "outputId": "04511ff3-a46e-4b97-a8ae-cdb408b6f145"
      },
      "execution_count": null,
      "outputs": [
        {
          "output_type": "execute_result",
          "data": {
            "text/plain": [
              "'Sam - Good morning'"
            ],
            "application/vnd.google.colaboratory.intrinsic+json": {
              "type": "string"
            }
          },
          "metadata": {},
          "execution_count": 34
        }
      ]
    },
    {
      "cell_type": "code",
      "source": [
        "# 📌 a. *args → for multiple positional arguments\n",
        "\n",
        "\n",
        "def add(*numbers):\n",
        "    print(numbers)\n",
        "    # total = 0\n",
        "    # for num in numbers:\n",
        "    #     total += num\n",
        "    # print(\"Total:\", total)\n",
        "\n",
        "add(1, 2, 3, 4)  # Total: 10\n"
      ],
      "metadata": {
        "colab": {
          "base_uri": "https://localhost:8080/"
        },
        "id": "S_tgNfVZaLms",
        "outputId": "4c5a6a2c-0bf2-4e3b-a56e-6ddd33489c72"
      },
      "execution_count": null,
      "outputs": [
        {
          "output_type": "stream",
          "name": "stdout",
          "text": [
            "(1, 2, 3, 4)\n"
          ]
        }
      ]
    },
    {
      "cell_type": "code",
      "source": [
        "# 📌 b. **kwargs → for multiple keyword arguments\n",
        "\n",
        "\n",
        "def show_details(**info):\n",
        "  print(info)\n",
        "    # for key, value in info.items():\n",
        "    #     print(key, \":\", value)\n",
        "\n",
        "show_details(name=\"Amit\", age=25, city=\"Indore\")\n"
      ],
      "metadata": {
        "colab": {
          "base_uri": "https://localhost:8080/"
        },
        "id": "UZJh18mGaP0l",
        "outputId": "1060be6d-19a0-44a9-b6f0-946bf69f8be6"
      },
      "execution_count": null,
      "outputs": [
        {
          "output_type": "stream",
          "name": "stdout",
          "text": [
            "{'name': 'Amit', 'age': 25, 'city': 'Indore'}\n"
          ]
        }
      ]
    },
    {
      "cell_type": "code",
      "source": [
        "def fun1(x):\n",
        "  1\n",
        "  print(x)\n",
        "\n",
        "x = input()\n",
        "fun1(x)\n",
        "#print(result)"
      ],
      "metadata": {
        "id": "NpLmaIjkaymQ",
        "colab": {
          "base_uri": "https://localhost:8080/"
        },
        "outputId": "c354524d-010f-409b-d794-d72add7cb202"
      },
      "execution_count": null,
      "outputs": [
        {
          "output_type": "stream",
          "name": "stdout",
          "text": [
            "amit\n",
            "amit\n"
          ]
        }
      ]
    },
    {
      "cell_type": "code",
      "source": [
        "def add():\n",
        "  x = int(input())\n",
        "  y = int(input())\n",
        "  z = x+y\n",
        "  return z\n",
        "\n",
        "add()"
      ],
      "metadata": {
        "colab": {
          "base_uri": "https://localhost:8080/"
        },
        "id": "b5z4LCV3tP5W",
        "outputId": "9f7985d4-7789-473d-8963-0b6c29843ae2"
      },
      "execution_count": null,
      "outputs": [
        {
          "name": "stdout",
          "output_type": "stream",
          "text": [
            "3\n",
            "4\n"
          ]
        },
        {
          "output_type": "execute_result",
          "data": {
            "text/plain": [
              "7"
            ]
          },
          "metadata": {},
          "execution_count": 10
        }
      ]
    },
    {
      "cell_type": "code",
      "source": [
        "def add1(x,y):\n",
        "  z = x+y\n",
        "  print(z)\n",
        "  #return z\n",
        "\n",
        "x = int(input())\n",
        "y = int(input())\n",
        "\n",
        "result  = add1(x,y)\n",
        "\n",
        "print(result)"
      ],
      "metadata": {
        "colab": {
          "base_uri": "https://localhost:8080/"
        },
        "id": "II0az4KKtmc0",
        "outputId": "4b45200b-f157-4e7f-82d2-93a9d088a711"
      },
      "execution_count": null,
      "outputs": [
        {
          "output_type": "stream",
          "name": "stdout",
          "text": [
            "3\n",
            "5\n",
            "8\n",
            "None\n"
          ]
        }
      ]
    },
    {
      "cell_type": "code",
      "source": [
        "def greet():\n",
        "    print(\"Hello\")\n",
        "\n",
        "result = greet()\n",
        "print(result)    # Output: Hello (from print), then None (from function return)\n"
      ],
      "metadata": {
        "colab": {
          "base_uri": "https://localhost:8080/"
        },
        "id": "1diTx_zxzFu8",
        "outputId": "a2eb1cf9-15bc-4591-ee42-1f83385d9e18"
      },
      "execution_count": null,
      "outputs": [
        {
          "output_type": "stream",
          "name": "stdout",
          "text": [
            "Hello\n",
            "None\n"
          ]
        }
      ]
    },
    {
      "cell_type": "code",
      "source": [
        "def say_hello():\n",
        "    return\n",
        "\n",
        "result = say_hello()\n",
        "print(result)    # Output: None\n"
      ],
      "metadata": {
        "colab": {
          "base_uri": "https://localhost:8080/"
        },
        "id": "x6wt555qzfOS",
        "outputId": "e440289e-a856-4568-d9cd-4500442db36b"
      },
      "execution_count": null,
      "outputs": [
        {
          "output_type": "stream",
          "name": "stdout",
          "text": [
            "None\n"
          ]
        }
      ]
    },
    {
      "cell_type": "code",
      "source": [
        "def add(x,y,z):\n",
        "  return x+y+z\n",
        "\n",
        "add(z=1,y=2,x=3)"
      ],
      "metadata": {
        "colab": {
          "base_uri": "https://localhost:8080/"
        },
        "id": "O7-48QF_2vty",
        "outputId": "9cec481c-a1d0-41e1-fc24-121f76c5c779"
      },
      "execution_count": null,
      "outputs": [
        {
          "output_type": "execute_result",
          "data": {
            "text/plain": [
              "6"
            ]
          },
          "metadata": {},
          "execution_count": 28
        }
      ]
    },
    {
      "cell_type": "code",
      "source": [
        "def add(x,y,z):\n",
        "  return x+y+z\n",
        "  return x,y,z\n",
        "\n",
        "add(1,2,3)\n"
      ],
      "metadata": {
        "colab": {
          "base_uri": "https://localhost:8080/"
        },
        "id": "JFCtRyPV2vrK",
        "outputId": "3656e3e9-df07-4edc-d0c4-c60ec1368f5e"
      },
      "execution_count": null,
      "outputs": [
        {
          "output_type": "execute_result",
          "data": {
            "text/plain": [
              "6"
            ]
          },
          "metadata": {},
          "execution_count": 37
        }
      ]
    },
    {
      "cell_type": "code",
      "source": [
        "l = [1,2,3,4,5,6,7,8]\n",
        "\n",
        "a=list(map(lambda x: x**2,l))\n",
        "print(a)"
      ],
      "metadata": {
        "colab": {
          "base_uri": "https://localhost:8080/"
        },
        "id": "TleS0l5xl3Tn",
        "outputId": "5e3619ee-5ef8-4cc0-ff94-144e840ee4f3"
      },
      "execution_count": null,
      "outputs": [
        {
          "output_type": "stream",
          "name": "stdout",
          "text": [
            "[1, 4, 9, 16, 25, 36, 49, 64]\n"
          ]
        }
      ]
    },
    {
      "cell_type": "code",
      "source": [
        "l = [1,2,3,4,5,6,7,8]\n",
        "\n",
        "def square(x):\n",
        "  return x**2\n",
        "\n",
        "a=list(map(square,l))\n",
        "print(a)"
      ],
      "metadata": {
        "colab": {
          "base_uri": "https://localhost:8080/"
        },
        "id": "OgBLVp_DnkiG",
        "outputId": "e9a149f7-e4b9-4152-dd4e-fc68a3237702"
      },
      "execution_count": null,
      "outputs": [
        {
          "output_type": "stream",
          "name": "stdout",
          "text": [
            "[1, 4, 9, 16, 25, 36, 49, 64]\n"
          ]
        }
      ]
    },
    {
      "cell_type": "code",
      "source": [
        "l = [1,2,3,4,5,6,7,8]\n",
        "\n",
        "evens = list(filter(lambda x: x%2==0,l))\n",
        "print(evens)"
      ],
      "metadata": {
        "colab": {
          "base_uri": "https://localhost:8080/"
        },
        "id": "yC4EJ-FAqOA2",
        "outputId": "a40a2656-6f68-499a-aa9f-0942c381847b"
      },
      "execution_count": null,
      "outputs": [
        {
          "output_type": "stream",
          "name": "stdout",
          "text": [
            "[2, 4, 6, 8]\n"
          ]
        }
      ]
    },
    {
      "cell_type": "markdown",
      "source": [
        "# Write a function subtract(a, b) that subtracts b from a using positional arguments.\n"
      ],
      "metadata": {
        "id": "6NE6MnKCymGH"
      }
    },
    {
      "cell_type": "code",
      "source": [
        "def sub(a,b):\n",
        "  c = a-b\n",
        "  return (c)\n",
        "\n",
        "a= int(input(\"first number is :\"))\n",
        "b= int(input(\"second number is :\"))\n",
        "\n",
        "output = sub(a,b)\n",
        "print(f\"output is {output}\")"
      ],
      "metadata": {
        "colab": {
          "base_uri": "https://localhost:8080/"
        },
        "id": "MM7jWMVqyj8v",
        "outputId": "58096621-30ad-4c05-a459-9cb3bf7e7a8c"
      },
      "execution_count": null,
      "outputs": [
        {
          "output_type": "stream",
          "name": "stdout",
          "text": [
            "first number is :20\n",
            "second number is :10\n",
            "output is 10\n"
          ]
        }
      ]
    },
    {
      "cell_type": "code",
      "source": [
        "# using lambda fn\n",
        "\n",
        "sub = lambda a,b : a-b\n",
        "\n",
        "a = int(input())\n",
        "b = int(input())\n",
        "sub(a,b)"
      ],
      "metadata": {
        "colab": {
          "base_uri": "https://localhost:8080/"
        },
        "id": "0oIUNXcZreq8",
        "outputId": "0b0fd614-3843-4666-f948-61c8d41f0580"
      },
      "execution_count": null,
      "outputs": [
        {
          "name": "stdout",
          "output_type": "stream",
          "text": [
            "20\n",
            "10\n"
          ]
        },
        {
          "output_type": "execute_result",
          "data": {
            "text/plain": [
              "10"
            ]
          },
          "metadata": {},
          "execution_count": 15
        }
      ]
    },
    {
      "cell_type": "markdown",
      "source": [
        "# Create a function greet(name, msg=\"Good Morning\"). Try calling it with and without msg."
      ],
      "metadata": {
        "id": "cxQawYrc0tw-"
      }
    },
    {
      "cell_type": "code",
      "source": [
        "def greet(name,msg=\"Good morning\"):\n",
        "  return f\"{name} - {msg}\"\n",
        "\n",
        "name = input()\n",
        "\n",
        "greet(name)"
      ],
      "metadata": {
        "colab": {
          "base_uri": "https://localhost:8080/",
          "height": 53
        },
        "id": "S4VG1B9Pyc82",
        "outputId": "0b893d6b-3aff-47b1-d5ee-b7368d43de94"
      },
      "execution_count": null,
      "outputs": [
        {
          "name": "stdout",
          "output_type": "stream",
          "text": [
            "Amit\n"
          ]
        },
        {
          "output_type": "execute_result",
          "data": {
            "text/plain": [
              "'Amit - Good morning'"
            ],
            "application/vnd.google.colaboratory.intrinsic+json": {
              "type": "string"
            }
          },
          "metadata": {},
          "execution_count": 25
        }
      ]
    },
    {
      "cell_type": "markdown",
      "source": [
        "# Define student(name, roll, grade). Call using keyword arguments in any order."
      ],
      "metadata": {
        "id": "yUCehtz62ERU"
      }
    },
    {
      "cell_type": "code",
      "source": [
        "def student(name,roll,grade):\n",
        "  return f\"{name}-{roll}-{grade}\"\n",
        "\n",
        "name = input()\n",
        "\n",
        "\n",
        "student(name,grade = \"A+\",roll = \"Accountant\")"
      ],
      "metadata": {
        "colab": {
          "base_uri": "https://localhost:8080/",
          "height": 53
        },
        "id": "A8VFbt3N2D9j",
        "outputId": "948e5379-dbf3-4823-bb17-a8e9e8b99328"
      },
      "execution_count": null,
      "outputs": [
        {
          "name": "stdout",
          "output_type": "stream",
          "text": [
            "Lalit\n"
          ]
        },
        {
          "output_type": "execute_result",
          "data": {
            "text/plain": [
              "'Lalit-Accountant-A+'"
            ],
            "application/vnd.google.colaboratory.intrinsic+json": {
              "type": "string"
            }
          },
          "metadata": {},
          "execution_count": 31
        }
      ]
    },
    {
      "cell_type": "markdown",
      "source": [
        "#Write def add_numbers(*args) that adds all numbers passed to it."
      ],
      "metadata": {
        "id": "OwSD033W4eOn"
      }
    },
    {
      "cell_type": "code",
      "source": [
        "def add(*args):\n",
        "  a = 0\n",
        "  for i in args:\n",
        "    a+=i\n",
        "  return a\n",
        "\n",
        "add(1,2,3,4,5)\n"
      ],
      "metadata": {
        "colab": {
          "base_uri": "https://localhost:8080/"
        },
        "id": "hwjGihul4d3A",
        "outputId": "d6e4fcb9-3886-47c5-a949-7ce7447aeee9"
      },
      "execution_count": null,
      "outputs": [
        {
          "output_type": "execute_result",
          "data": {
            "text/plain": [
              "15"
            ]
          },
          "metadata": {},
          "execution_count": 33
        }
      ]
    },
    {
      "cell_type": "code",
      "source": [
        "# using lambda solve above problem"
      ],
      "metadata": {
        "id": "UrO-A8RG4-TB"
      },
      "execution_count": null,
      "outputs": []
    },
    {
      "cell_type": "code",
      "source": [
        "def add(*args):\n",
        "  return sum(args)\n",
        "\n",
        "add(1,2,3,4,5)"
      ],
      "metadata": {
        "colab": {
          "base_uri": "https://localhost:8080/"
        },
        "id": "Zokjznum5VeL",
        "outputId": "39dd0102-5d4f-4da5-a255-386d973674bc"
      },
      "execution_count": null,
      "outputs": [
        {
          "output_type": "execute_result",
          "data": {
            "text/plain": [
              "15"
            ]
          },
          "metadata": {},
          "execution_count": 35
        }
      ]
    },
    {
      "cell_type": "markdown",
      "source": [
        "# Write def profile(**info) to print key and value from passed details."
      ],
      "metadata": {
        "id": "6I8bW21B5hix"
      }
    },
    {
      "cell_type": "code",
      "source": [
        "def info(**kwargs):\n",
        "  for key,value in kwargs.items():\n",
        "    print(f\"{key}-{value}\")\n",
        "\n",
        "info(name = 'Amit', age = 25, city = 'Indore')"
      ],
      "metadata": {
        "colab": {
          "base_uri": "https://localhost:8080/"
        },
        "id": "fck0y94o5YzA",
        "outputId": "cc1c963c-1d77-4fc9-ca48-7964102e90b4"
      },
      "execution_count": null,
      "outputs": [
        {
          "output_type": "stream",
          "name": "stdout",
          "text": [
            "name-Amit\n",
            "age-25\n",
            "city-Indore\n"
          ]
        }
      ]
    },
    {
      "cell_type": "markdown",
      "source": [
        "# Create a function info(name, age, city) that prints the user's details."
      ],
      "metadata": {
        "id": "bacUAsHV6YTx"
      }
    },
    {
      "cell_type": "code",
      "source": [
        "def info(name,age,city):\n",
        "  return f\"{name}-{age}-{city}\"\n",
        "\n",
        "name = input()\n",
        "age = int(input())\n",
        "city = input()\n",
        "\n",
        "info(name,age,city)"
      ],
      "metadata": {
        "colab": {
          "base_uri": "https://localhost:8080/",
          "height": 87
        },
        "id": "pZLSjqtk6ZHz",
        "outputId": "55352eb4-534c-4825-8186-ca97b8ff843c"
      },
      "execution_count": null,
      "outputs": [
        {
          "name": "stdout",
          "output_type": "stream",
          "text": [
            "Amit\n",
            "25\n",
            "Kanpur\n"
          ]
        },
        {
          "output_type": "execute_result",
          "data": {
            "text/plain": [
              "'Amit-25-Kanpur'"
            ],
            "application/vnd.google.colaboratory.intrinsic+json": {
              "type": "string"
            }
          },
          "metadata": {},
          "execution_count": 38
        }
      ]
    },
    {
      "cell_type": "markdown",
      "source": [
        "#Write a function power(base, exp=2) that returns base^exp."
      ],
      "metadata": {
        "id": "wIKXzC-r6-07"
      }
    },
    {
      "cell_type": "code",
      "source": [
        "def power(base,exp=2):\n",
        "  return base**exp\n",
        "\n",
        "base = int(input())\n",
        "\n",
        "power(base)"
      ],
      "metadata": {
        "colab": {
          "base_uri": "https://localhost:8080/"
        },
        "id": "pfyleRdL7Abs",
        "outputId": "fb198a6d-3e79-4e3d-a271-60edebbc6fa4"
      },
      "execution_count": null,
      "outputs": [
        {
          "name": "stdout",
          "output_type": "stream",
          "text": [
            "25\n"
          ]
        },
        {
          "output_type": "execute_result",
          "data": {
            "text/plain": [
              "625"
            ]
          },
          "metadata": {},
          "execution_count": 41
        }
      ]
    },
    {
      "cell_type": "markdown",
      "source": [
        "# Create vehicle(type, brand, color) and call using vehicle(color=\"Red\", brand=\"Honda\", type=\"Bike\")."
      ],
      "metadata": {
        "id": "EmkZ8ZZa8H7K"
      }
    },
    {
      "cell_type": "code",
      "source": [
        "def vehicle(type,brand,color):\n",
        "  return f\"{type}-{brand}-{color}\"\n",
        "\n",
        "vehicle(color=\"Red\", brand=\"Honda\", type=\"Bike\")"
      ],
      "metadata": {
        "colab": {
          "base_uri": "https://localhost:8080/",
          "height": 35
        },
        "id": "WzbSKvmQ8Jor",
        "outputId": "2fbcf855-5629-468d-8ddc-ec33a5272868"
      },
      "execution_count": null,
      "outputs": [
        {
          "output_type": "execute_result",
          "data": {
            "text/plain": [
              "'Bike-Honda-Red'"
            ],
            "application/vnd.google.colaboratory.intrinsic+json": {
              "type": "string"
            }
          },
          "metadata": {},
          "execution_count": 42
        }
      ]
    },
    {
      "cell_type": "markdown",
      "source": [
        "# Create def print_names(*names) that prints each name in a new line."
      ],
      "metadata": {
        "id": "PbXuue9X8Yet"
      }
    },
    {
      "cell_type": "code",
      "source": [
        "def print_names(*names):\n",
        "  for name in names:\n",
        "    print(name)\n",
        "\n",
        "print_names(\"Amit\",\"Sam\",\"Raj\")"
      ],
      "metadata": {
        "colab": {
          "base_uri": "https://localhost:8080/"
        },
        "id": "jvpbhV7R8ZUl",
        "outputId": "6ec07d4e-99bc-49ba-b0ca-89048a69de2f"
      },
      "execution_count": null,
      "outputs": [
        {
          "output_type": "stream",
          "name": "stdout",
          "text": [
            "Amit\n",
            "Sam\n",
            "Raj\n"
          ]
        }
      ]
    },
    {
      "cell_type": "markdown",
      "source": [
        "# Create def address(**kwargs) to accept street, city, and zip."
      ],
      "metadata": {
        "id": "4KAOwu398tKm"
      }
    },
    {
      "cell_type": "code",
      "source": [
        "def address(**kwargs):\n",
        "  return kwargs\n",
        "\n",
        "address(street = \"123 Main St\", city = \"Anytown\", zip = \"12345\")"
      ],
      "metadata": {
        "colab": {
          "base_uri": "https://localhost:8080/"
        },
        "id": "xCQnUiNI8uJA",
        "outputId": "153acd60-4705-44df-f726-48bb808a05c6"
      },
      "execution_count": null,
      "outputs": [
        {
          "output_type": "execute_result",
          "data": {
            "text/plain": [
              "{'street': '123 Main St', 'city': 'Anytown', 'zip': '12345'}"
            ]
          },
          "metadata": {},
          "execution_count": 44
        }
      ]
    },
    {
      "cell_type": "code",
      "source": [
        "def connect_to_db(host=\"localhost\", port=3306, user=\"root\", password=\"\", db_name=\"test_db\"):\n",
        "    print(f\"Connecting to database...\")\n",
        "    print(f\"Host: {host}\")\n",
        "    print(f\"Port: {port}\")\n",
        "    print(f\"User: {user}\")\n",
        "    print(f\"Password: {password}\")\n",
        "    print(f\"Database: {db_name}\")\n",
        "    # In real use case, you'd use these values to connect using a library like mysql.connector or psycopg2\n"
      ],
      "metadata": {
        "id": "ps5N-ufgs_OS"
      },
      "execution_count": null,
      "outputs": []
    },
    {
      "cell_type": "code",
      "source": [
        "connect_to_db(db_name = \"my_db\",password = \"536272dg\")\n"
      ],
      "metadata": {
        "colab": {
          "base_uri": "https://localhost:8080/"
        },
        "id": "Hycj_Kd-tDcE",
        "outputId": "3b3ebe16-e69d-4783-f014-880b38adc41a"
      },
      "execution_count": null,
      "outputs": [
        {
          "output_type": "stream",
          "name": "stdout",
          "text": [
            "Connecting to database...\n",
            "Host: localhost\n",
            "Port: 3306\n",
            "User: root\n",
            "Password: 536272dg\n",
            "Database: my_db\n"
          ]
        }
      ]
    },
    {
      "cell_type": "markdown",
      "source": [
        "# extract the list of first letter from a sentence"
      ],
      "metadata": {
        "id": "g3ZD-p3cuLwu"
      }
    },
    {
      "cell_type": "code",
      "source": [
        "india = \"\"\"Bounded by the Indian Ocean on the south, the Arabian Sea on the southwest, and the Bay of Bengal on the southeast, it shares land borders with Pakistan to the west;[k] China, Nepal, and Bhutan to the north; and Bangladesh and Myanmar to the east. In the Indian Ocean, India is near Sri Lanka and the Maldives; its Andaman and Nicobar Islands share a maritime border with Thailand, Myanmar, and Indonesia.\"\"\"\n",
        "\n"
      ],
      "metadata": {
        "id": "ibAy6x1duRA_"
      },
      "execution_count": null,
      "outputs": []
    },
    {
      "cell_type": "code",
      "source": [
        "word_list = india.split(\" \")\n",
        "\n",
        "\n",
        "first_letter = [word[0] for word in word_list]\n",
        "print(first_letter)"
      ],
      "metadata": {
        "colab": {
          "base_uri": "https://localhost:8080/"
        },
        "id": "SQh8LCtGutee",
        "outputId": "6f7e1bb3-3612-47ae-91af-e4f48b6ad7b4"
      },
      "execution_count": null,
      "outputs": [
        {
          "output_type": "stream",
          "name": "stdout",
          "text": [
            "['B', 'b', 't', 'I', 'O', 'o', 't', 's', 't', 'A', 'S', 'o', 't', 's', 'a', 't', 'B', 'o', 'B', 'o', 't', 's', 'i', 's', 'l', 'b', 'w', 'P', 't', 't', 'w', 'C', 'N', 'a', 'B', 't', 't', 'n', 'a', 'B', 'a', 'M', 't', 't', 'e', 'I', 't', 'I', 'O', 'I', 'i', 'n', 'S', 'L', 'a', 't', 'M', 'i', 'A', 'a', 'N', 'I', 's', 'a', 'm', 'b', 'w', 'T', 'M', 'a', 'I']\n"
          ]
        }
      ]
    },
    {
      "cell_type": "code",
      "source": [
        "l = []\n",
        "for word in word_list:\n",
        "  l.append(word[0])\n",
        "print(l)"
      ],
      "metadata": {
        "colab": {
          "base_uri": "https://localhost:8080/"
        },
        "id": "LbgzbhdLvM5C",
        "outputId": "a4593a81-7977-497f-96ec-45049fc034dd"
      },
      "execution_count": null,
      "outputs": [
        {
          "output_type": "stream",
          "name": "stdout",
          "text": [
            "['B', 'b', 't', 'I', 'O', 'o', 't', 's', 't', 'A', 'S', 'o', 't', 's', 'a', 't', 'B', 'o', 'B', 'o', 't', 's', 'i', 's', 'l', 'b', 'w', 'P', 't', 't', 'w', 'C', 'N', 'a', 'B', 't', 't', 'n', 'a', 'B', 'a', 'M', 't', 't', 'e', 'I', 't', 'I', 'O', 'I', 'i', 'n', 'S', 'L', 'a', 't', 'M', 'i', 'A', 'a', 'N', 'I', 's', 'a', 'm', 'b', 'w', 'T', 'M', 'a', 'I']\n"
          ]
        }
      ]
    },
    {
      "cell_type": "code",
      "source": [
        "def extract_first_letter(sentence):\n",
        "  word_list = sentence.split(\" \")\n",
        "  first_letter = [word[0] for word in word_list]\n",
        "  return first_letter\n",
        "\n",
        "extract_first_letter(india)"
      ],
      "metadata": {
        "colab": {
          "base_uri": "https://localhost:8080/"
        },
        "id": "d2kqQKjdwvUP",
        "outputId": "9171f8ad-2a76-4eb5-b4d6-55e219de3664"
      },
      "execution_count": null,
      "outputs": [
        {
          "output_type": "execute_result",
          "data": {
            "text/plain": [
              "['B',\n",
              " 'b',\n",
              " 't',\n",
              " 'I',\n",
              " 'O',\n",
              " 'o',\n",
              " 't',\n",
              " 's',\n",
              " 't',\n",
              " 'A',\n",
              " 'S',\n",
              " 'o',\n",
              " 't',\n",
              " 's',\n",
              " 'a',\n",
              " 't',\n",
              " 'B',\n",
              " 'o',\n",
              " 'B',\n",
              " 'o',\n",
              " 't',\n",
              " 's',\n",
              " 'i',\n",
              " 's',\n",
              " 'l',\n",
              " 'b',\n",
              " 'w',\n",
              " 'P',\n",
              " 't',\n",
              " 't',\n",
              " 'w',\n",
              " 'C',\n",
              " 'N',\n",
              " 'a',\n",
              " 'B',\n",
              " 't',\n",
              " 't',\n",
              " 'n',\n",
              " 'a',\n",
              " 'B',\n",
              " 'a',\n",
              " 'M',\n",
              " 't',\n",
              " 't',\n",
              " 'e',\n",
              " 'I',\n",
              " 't',\n",
              " 'I',\n",
              " 'O',\n",
              " 'I',\n",
              " 'i',\n",
              " 'n',\n",
              " 'S',\n",
              " 'L',\n",
              " 'a',\n",
              " 't',\n",
              " 'M',\n",
              " 'i',\n",
              " 'A',\n",
              " 'a',\n",
              " 'N',\n",
              " 'I',\n",
              " 's',\n",
              " 'a',\n",
              " 'm',\n",
              " 'b',\n",
              " 'w',\n",
              " 'T',\n",
              " 'M',\n",
              " 'a',\n",
              " 'I']"
            ]
          },
          "metadata": {},
          "execution_count": 21
        }
      ]
    },
    {
      "cell_type": "markdown",
      "source": [
        "# factorial of a number"
      ],
      "metadata": {
        "id": "9e0MTNbtxuaz"
      }
    },
    {
      "cell_type": "code",
      "source": [
        "def factorial(number):\n",
        "  l = 1\n",
        "  for i in range(1,number+1):\n",
        "    l*=i\n",
        "  return l\n",
        "\n",
        "factorial(7)\n",
        "\n"
      ],
      "metadata": {
        "colab": {
          "base_uri": "https://localhost:8080/"
        },
        "id": "J4rrYS97xw5B",
        "outputId": "1fc0f138-3769-4544-9ec2-d1760d44eb84"
      },
      "execution_count": null,
      "outputs": [
        {
          "output_type": "execute_result",
          "data": {
            "text/plain": [
              "5040"
            ]
          },
          "metadata": {},
          "execution_count": 26
        }
      ]
    },
    {
      "cell_type": "markdown",
      "source": [
        "# Write a lambda function to square a number, then use it to square the number 7"
      ],
      "metadata": {
        "id": "QworOHdsHc9-"
      }
    },
    {
      "cell_type": "code",
      "source": [
        "square = lambda x : x**2\n",
        "square(7)"
      ],
      "metadata": {
        "colab": {
          "base_uri": "https://localhost:8080/"
        },
        "id": "PJMAIc2ly2sp",
        "outputId": "c451b2be-ab69-462a-f56b-d9d426a4ba2c"
      },
      "execution_count": null,
      "outputs": [
        {
          "output_type": "execute_result",
          "data": {
            "text/plain": [
              "49"
            ]
          },
          "metadata": {},
          "execution_count": 5
        }
      ]
    },
    {
      "cell_type": "markdown",
      "source": [
        "# Create a lambda function that checks if a number is even, then test it with the numbers 4 and 5.\n"
      ],
      "metadata": {
        "id": "kRMjnPzLH7ud"
      }
    },
    {
      "cell_type": "code",
      "source": [
        "even = lambda x : x%2==0\n",
        "even(5)"
      ],
      "metadata": {
        "colab": {
          "base_uri": "https://localhost:8080/"
        },
        "id": "y6znW98EHjTc",
        "outputId": "5fea8af9-a6a6-4551-f68d-feaa93802b17"
      },
      "execution_count": null,
      "outputs": [
        {
          "output_type": "execute_result",
          "data": {
            "text/plain": [
              "False"
            ]
          },
          "metadata": {},
          "execution_count": 7
        }
      ]
    },
    {
      "cell_type": "markdown",
      "source": [
        "# Write a lambda function that takes two parameters and returns their sum. Test it with the values 10 and 20.\n"
      ],
      "metadata": {
        "id": "rS9dpWNXIQSQ"
      }
    },
    {
      "cell_type": "code",
      "source": [
        "addition = lambda a,b:a+b\n",
        "addition(10,20)"
      ],
      "metadata": {
        "colab": {
          "base_uri": "https://localhost:8080/"
        },
        "id": "9GefYnGpHlZs",
        "outputId": "1261266d-4782-4512-8565-cfa8882a76f6"
      },
      "execution_count": null,
      "outputs": [
        {
          "output_type": "execute_result",
          "data": {
            "text/plain": [
              "30"
            ]
          },
          "metadata": {},
          "execution_count": 8
        }
      ]
    },
    {
      "cell_type": "markdown",
      "source": [
        "# Create a lambda function that returns the length of a string, then use it to find the length of \"Python\"."
      ],
      "metadata": {
        "id": "Mj5DkVTgIpr7"
      }
    },
    {
      "cell_type": "code",
      "source": [
        "length = lambda x : len(x)\n",
        "\n",
        "length('Python')"
      ],
      "metadata": {
        "colab": {
          "base_uri": "https://localhost:8080/"
        },
        "id": "_Tfn5MGWIq76",
        "outputId": "62a091c0-1327-47f6-81c9-f13fb86cda29"
      },
      "execution_count": null,
      "outputs": [
        {
          "output_type": "execute_result",
          "data": {
            "text/plain": [
              "6"
            ]
          },
          "metadata": {},
          "execution_count": 9
        }
      ]
    },
    {
      "cell_type": "markdown",
      "source": [
        "# Write a lambda function that converts a temperature from Celsius to Fahrenheit (formula: F = C * 9/5 + 32). Test it with 25°C."
      ],
      "metadata": {
        "id": "emDT1UN_I7CO"
      }
    },
    {
      "cell_type": "code",
      "source": [
        "temp_conversion = lambda c : c* (9/5)+32\n",
        "temp_conversion(25)"
      ],
      "metadata": {
        "colab": {
          "base_uri": "https://localhost:8080/"
        },
        "id": "IaYwC_d7I8DS",
        "outputId": "0cdd3b51-dea2-48a2-c8c2-989266b816bc"
      },
      "execution_count": null,
      "outputs": [
        {
          "output_type": "execute_result",
          "data": {
            "text/plain": [
              "77.0"
            ]
          },
          "metadata": {},
          "execution_count": 10
        }
      ]
    },
    {
      "cell_type": "markdown",
      "source": [
        "# Use map() with a lambda function to convert a list of temperatures in Celsius [0, 10, 20, 30, 40] to Fahrenheit."
      ],
      "metadata": {
        "id": "-neA-Ul2Juu3"
      }
    },
    {
      "cell_type": "code",
      "source": [
        "temp = [0,10,20,30,40] # tempreture in C\n",
        "\n",
        "temp_new = tuple(map(lambda c : c *(9/5) +32,temp))\n",
        "\n",
        "print(temp_new)"
      ],
      "metadata": {
        "colab": {
          "base_uri": "https://localhost:8080/"
        },
        "id": "0dvPbSlrJwfn",
        "outputId": "e090151c-24f1-4b89-da05-0cf90d0abbbb"
      },
      "execution_count": null,
      "outputs": [
        {
          "output_type": "stream",
          "name": "stdout",
          "text": [
            "(32.0, 50.0, 68.0, 86.0, 104.0)\n"
          ]
        }
      ]
    },
    {
      "cell_type": "markdown",
      "source": [
        "# Create a list of names ['alice', 'bob', 'charlie'] and use map() to capitalize each name."
      ],
      "metadata": {
        "id": "r8n0_vJFKw_H"
      }
    },
    {
      "cell_type": "code",
      "source": [
        "names =  ['alice', 'bob', 'charlie']\n",
        "\n",
        "new_name = map(lambda x: x.capitalize(),names)\n",
        "\n",
        "print(list(new_name))"
      ],
      "metadata": {
        "colab": {
          "base_uri": "https://localhost:8080/"
        },
        "id": "WtmePXWwK4F_",
        "outputId": "d89a433e-d716-4eee-f252-dc2d263e9dcd"
      },
      "execution_count": null,
      "outputs": [
        {
          "output_type": "stream",
          "name": "stdout",
          "text": [
            "['Alice', 'Bob', 'Charlie']\n"
          ]
        }
      ]
    },
    {
      "cell_type": "markdown",
      "source": [
        "# Use map() to convert each number in the list [1, 2, 3, 4, 5] to its square root."
      ],
      "metadata": {
        "id": "C-a1xqUdLehV"
      }
    },
    {
      "cell_type": "code",
      "source": [
        "li = [1,2,3,4,5]\n",
        "\n",
        "square_root = map(lambda x : x**0.5,li)\n",
        "\n",
        "print(list(square_root))"
      ],
      "metadata": {
        "colab": {
          "base_uri": "https://localhost:8080/"
        },
        "id": "Y7B_6P8oLgDT",
        "outputId": "4456bd40-9de0-49b3-acfd-f7323ba04cd4"
      },
      "execution_count": null,
      "outputs": [
        {
          "output_type": "stream",
          "name": "stdout",
          "text": [
            "[1.0, 1.4142135623730951, 1.7320508075688772, 2.0, 2.23606797749979]\n"
          ]
        }
      ]
    },
    {
      "cell_type": "markdown",
      "source": [
        "# Apply map() to convert a list of strings ['12', '34', '56', '78'] to integers.\n",
        "\\\\"
      ],
      "metadata": {
        "id": "ciLo-zHSMCkC"
      }
    },
    {
      "cell_type": "code",
      "source": [
        "l = ['12', '34', '56', '78']\n",
        "\n",
        "str_to_int = list(map(lambda x : int(x),l))\n",
        "\n",
        "print(str_to_int)"
      ],
      "metadata": {
        "colab": {
          "base_uri": "https://localhost:8080/"
        },
        "id": "vO40IZiiMDsj",
        "outputId": "8ebc5236-9cc4-449d-e638-6f71ea886b21"
      },
      "execution_count": null,
      "outputs": [
        {
          "output_type": "stream",
          "name": "stdout",
          "text": [
            "[12, 34, 56, 78]\n"
          ]
        }
      ]
    },
    {
      "cell_type": "markdown",
      "source": [
        "# Use map() with a lambda function to get the length of each word in the list ['Python', 'is', 'awesome', 'and', 'powerful']."
      ],
      "metadata": {
        "id": "RzBAAbBoMm4Y"
      }
    },
    {
      "cell_type": "code",
      "source": [
        "l = ['Python', 'is', 'awesome', 'and', 'powerful']\n",
        "\n",
        "length = tuple(map(lambda x: len(x),l))\n",
        "\n",
        "print(length)"
      ],
      "metadata": {
        "colab": {
          "base_uri": "https://localhost:8080/"
        },
        "id": "Z5EHYlntMpjr",
        "outputId": "fc09c86f-b36c-4500-c9b6-ad2d240e7cd6"
      },
      "execution_count": null,
      "outputs": [
        {
          "output_type": "stream",
          "name": "stdout",
          "text": [
            "(6, 2, 7, 3, 8)\n"
          ]
        }
      ]
    },
    {
      "cell_type": "markdown",
      "source": [
        "# Use filter() with a lambda function to extract all even numbers from the list [1, 2, 3, 4, 5, 6, 7, 8, 9, 10]."
      ],
      "metadata": {
        "id": "OHK2KwtjM_lK"
      }
    },
    {
      "cell_type": "code",
      "source": [
        "l = [1, 2, 3, 4, 5, 6, 7, 8, 9, 10]\n",
        "\n",
        "even = list(filter(lambda x: x%2==0,l))\n",
        "print(even)"
      ],
      "metadata": {
        "colab": {
          "base_uri": "https://localhost:8080/"
        },
        "id": "IxyVyyXDNAmK",
        "outputId": "6904c39d-52d0-46ed-d621-7fd12cbace50"
      },
      "execution_count": null,
      "outputs": [
        {
          "output_type": "stream",
          "name": "stdout",
          "text": [
            "[2, 4, 6, 8, 10]\n"
          ]
        }
      ]
    },
    {
      "cell_type": "markdown",
      "source": [
        "# Create a filter() function to find all strings that start with 'a' in the list ['apple', 'banana', 'avocado', 'grape', 'apricot']."
      ],
      "metadata": {
        "id": "U8s9nWnaOrtG"
      }
    },
    {
      "cell_type": "code",
      "source": [
        "fruit = ['apple', 'banana', 'avocado', 'grape', 'apricot']\n",
        "\n",
        "output = list(filter(lambda x: x.startswith('a'),fruit))\n",
        "print(output)"
      ],
      "metadata": {
        "colab": {
          "base_uri": "https://localhost:8080/"
        },
        "id": "INWVdc6oOtaf",
        "outputId": "4281d11f-0ff0-4ac7-bcf7-50dadfc7c4ac"
      },
      "execution_count": 2,
      "outputs": [
        {
          "output_type": "stream",
          "name": "stdout",
          "text": [
            "['apple', 'avocado', 'apricot']\n"
          ]
        }
      ]
    },
    {
      "cell_type": "code",
      "source": [
        "fruit = ['apple', 'banana', 'avocado', 'grape', 'apricot']\n",
        "\n",
        "output = list(filter(lambda x: x[0]=='a',fruit))\n",
        "print(output)"
      ],
      "metadata": {
        "colab": {
          "base_uri": "https://localhost:8080/"
        },
        "id": "H9cTVrQxPQV8",
        "outputId": "eb867db5-228c-454b-a188-32d9d0942d4d"
      },
      "execution_count": 3,
      "outputs": [
        {
          "output_type": "stream",
          "name": "stdout",
          "text": [
            "['apple', 'avocado', 'apricot']\n"
          ]
        }
      ]
    },
    {
      "cell_type": "markdown",
      "source": [
        "# Use filter() to find all numbers greater than 50 in the list [32, 45, 67, 89, 12, 36, 75, 82]"
      ],
      "metadata": {
        "id": "BffWteuZPq5n"
      }
    },
    {
      "cell_type": "code",
      "source": [
        "l =  [32, 45, 67, 89, 12, 36, 75, 82]\n",
        "\n",
        "a = list(filter(lambda x:x>50,l))\n",
        "\n",
        "print(a)"
      ],
      "metadata": {
        "colab": {
          "base_uri": "https://localhost:8080/"
        },
        "id": "2yYughanPr7X",
        "outputId": "be960f9d-addc-4322-b849-e07edb1bba53"
      },
      "execution_count": 4,
      "outputs": [
        {
          "output_type": "stream",
          "name": "stdout",
          "text": [
            "[67, 89, 75, 82]\n"
          ]
        }
      ]
    },
    {
      "cell_type": "markdown",
      "source": [
        "# Apply filter() to get all strings with length greater than 5 from the list ['Python', 'Java', 'C', 'JavaScript', 'Go', 'Kotlin']."
      ],
      "metadata": {
        "id": "IqIscRHpQtRg"
      }
    },
    {
      "cell_type": "code",
      "source": [
        "l =  ['Python', 'Java', 'C', 'JavaScript', 'Go', 'Kotlin']\n",
        "\n",
        "a = list(filter(lambda x:len(x)>5,l))\n",
        "\n",
        "print(a)"
      ],
      "metadata": {
        "colab": {
          "base_uri": "https://localhost:8080/"
        },
        "id": "aDs5-VQKQuN-",
        "outputId": "08cb8309-3c4b-4985-b771-e53decf80682"
      },
      "execution_count": 1,
      "outputs": [
        {
          "output_type": "stream",
          "name": "stdout",
          "text": [
            "['Python', 'JavaScript', 'Kotlin']\n"
          ]
        }
      ]
    },
    {
      "cell_type": "markdown",
      "source": [
        "# Use filter() with a lambda function to find all numbers divisible by both 2 and 3 in the list [6, 9, 12, 15, 18, 21, 24, 27, 30]."
      ],
      "metadata": {
        "id": "df6MlNKzRJKh"
      }
    },
    {
      "cell_type": "code",
      "source": [
        "a =  [6, 9, 12, 15, 18, 21, 24, 27, 30]\n",
        "\n",
        "b = list(filter(lambda x: x%2==0 and x%3==0,a))\n",
        "print(b)"
      ],
      "metadata": {
        "colab": {
          "base_uri": "https://localhost:8080/"
        },
        "id": "SZU9a5JHQ09e",
        "outputId": "8616120e-69d0-47fc-a9b3-08d0893ea722"
      },
      "execution_count": 1,
      "outputs": [
        {
          "output_type": "stream",
          "name": "stdout",
          "text": [
            "[6, 12, 18, 24, 30]\n"
          ]
        }
      ]
    },
    {
      "cell_type": "code",
      "source": [],
      "metadata": {
        "id": "VLkbOvr8RO5N"
      },
      "execution_count": null,
      "outputs": []
    }
  ]
}