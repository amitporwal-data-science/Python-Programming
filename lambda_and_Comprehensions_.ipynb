{
  "nbformat": 4,
  "nbformat_minor": 0,
  "metadata": {
    "colab": {
      "provenance": [],
      "authorship_tag": "ABX9TyMfAoVEodMEkSdNePlEz+nw",
      "include_colab_link": true
    },
    "kernelspec": {
      "name": "python3",
      "display_name": "Python 3"
    },
    "language_info": {
      "name": "python"
    }
  },
  "cells": [
    {
      "cell_type": "markdown",
      "metadata": {
        "id": "view-in-github",
        "colab_type": "text"
      },
      "source": [
        "<a href=\"https://colab.research.google.com/github/amitporwal-data-science/Python-Programming/blob/main/lambda_and_Comprehensions_.ipynb\" target=\"_parent\"><img src=\"https://colab.research.google.com/assets/colab-badge.svg\" alt=\"Open In Colab\"/></a>"
      ]
    },
    {
      "cell_type": "markdown",
      "source": [
        "# Use filter() with a lambda function to find all numbers divisible by both 2 and 3 in the list [6, 9, 12, 15, 18, 21, 24, 27, 30]."
      ],
      "metadata": {
        "id": "p6ZUl_mpRdi7"
      }
    },
    {
      "cell_type": "code",
      "execution_count": 1,
      "metadata": {
        "colab": {
          "base_uri": "https://localhost:8080/"
        },
        "id": "nBS2CwqIRc9Q",
        "outputId": "b085e304-354a-488f-b114-961b25a3f229"
      },
      "outputs": [
        {
          "output_type": "stream",
          "name": "stdout",
          "text": [
            "[6, 12, 18, 24, 30]\n"
          ]
        }
      ],
      "source": [
        "l  = [6, 9, 12, 15, 18, 21, 24, 27, 30]\n",
        "\n",
        "a = list(filter(lambda x: x%2==0 and x%3==0, l))\n",
        "print(a)"
      ]
    },
    {
      "cell_type": "markdown",
      "source": [
        "# Convert numbers to \"even\" or \"odd\" using map() with a conditional expression\n"
      ],
      "metadata": {
        "id": "tI0yBKfJVeNK"
      }
    },
    {
      "cell_type": "code",
      "source": [
        "numbers = [1, 2, 3, 4, 5, 6, 7, 8, 9, 10]\n",
        "\n",
        "tags = list(map(lambda x : \"even\" if x%2==0 else \"odd\",numbers))\n",
        "print(tags)"
      ],
      "metadata": {
        "colab": {
          "base_uri": "https://localhost:8080/"
        },
        "id": "2FRCPN1jVgLe",
        "outputId": "7e4115f4-9638-4688-90fb-be6ca4f5e9d1"
      },
      "execution_count": 2,
      "outputs": [
        {
          "output_type": "stream",
          "name": "stdout",
          "text": [
            "['odd', 'even', 'odd', 'even', 'odd', 'even', 'odd', 'even', 'odd', 'even']\n"
          ]
        }
      ]
    },
    {
      "cell_type": "markdown",
      "source": [
        "# Categorize numbers as \"low\", \"medium\", or \"high\"\n"
      ],
      "metadata": {
        "id": "T4H670ySWAXI"
      }
    },
    {
      "cell_type": "code",
      "source": [
        "numbers = [5, 15, 25, 35, 45, 55]\n",
        "\n",
        "category_tag = list(map(lambda x : \"low\" if x<20 else \"medium\" if x<40 else \"high\",numbers))\n",
        "print(category_tag)"
      ],
      "metadata": {
        "colab": {
          "base_uri": "https://localhost:8080/"
        },
        "id": "5boRrVBbWCho",
        "outputId": "b3cdd9be-5f64-4d07-b34c-c8f232fd46e3"
      },
      "execution_count": 3,
      "outputs": [
        {
          "output_type": "stream",
          "name": "stdout",
          "text": [
            "['low', 'low', 'medium', 'medium', 'high', 'high']\n"
          ]
        }
      ]
    },
    {
      "cell_type": "markdown",
      "source": [
        "# create a user_define_function and pass into map() fn"
      ],
      "metadata": {
        "id": "l8GUL8qbWzes"
      }
    },
    {
      "cell_type": "code",
      "source": [
        "def grade_assign(score):\n",
        "  if score >= 90:\n",
        "    return 'A'\n",
        "  elif score >= 80:\n",
        "    return 'B'\n",
        "  elif score >= 70:\n",
        "    return 'C'\n",
        "  elif score >= 60:\n",
        "    return 'D'\n",
        "  else:\n",
        "    return 'F'\n",
        "\n",
        "scores = [85, 92, 78, 63, 95]\n",
        "\n",
        "grades = list(map(grade_assign,scores))\n",
        "print(grades)"
      ],
      "metadata": {
        "colab": {
          "base_uri": "https://localhost:8080/"
        },
        "id": "IoJKnyLsW4-2",
        "outputId": "9afebd11-6092-4aee-9bd8-8af4bc2ee7d3"
      },
      "execution_count": 6,
      "outputs": [
        {
          "output_type": "stream",
          "name": "stdout",
          "text": [
            "['B', 'A', 'C', 'D', 'A']\n"
          ]
        }
      ]
    },
    {
      "cell_type": "markdown",
      "source": [
        "# Transform data based on conditions\n"
      ],
      "metadata": {
        "id": "fqZwlJ_4X0dB"
      }
    },
    {
      "cell_type": "code",
      "source": [
        "data = [\"12\", \"error\", \"15\", \"20\", \"invalid\"]\n",
        "\n",
        "def convert_or_default(var,default = 0):\n",
        "  if var.isdigit():\n",
        "    return int(var)\n",
        "  else :\n",
        "    return default\n",
        "\n",
        "result = list(map(convert_or_default,data))\n",
        "print(result)"
      ],
      "metadata": {
        "colab": {
          "base_uri": "https://localhost:8080/"
        },
        "id": "L-FpndofX1xp",
        "outputId": "59171885-e99d-4afe-827d-a882d6796d06"
      },
      "execution_count": 9,
      "outputs": [
        {
          "output_type": "stream",
          "name": "stdout",
          "text": [
            "[12, 0, 15, 20, 0]\n"
          ]
        }
      ]
    },
    {
      "cell_type": "markdown",
      "source": [
        "# Compare two lists and return relationship between corresponding elements\n"
      ],
      "metadata": {
        "id": "HrmX1XMuYwgB"
      }
    },
    {
      "cell_type": "code",
      "source": [
        "list1 = [10, 20, 30, 40, 70]\n",
        "list2 = [5, 20, 35, 40, 55]\n",
        "\n",
        "compare = list(map(lambda a,b: \"equal\" if a==b else \"greater\" if a>b else \"small\",list1,list2))\n",
        "print(compare)"
      ],
      "metadata": {
        "colab": {
          "base_uri": "https://localhost:8080/"
        },
        "id": "MOOiyccyYx05",
        "outputId": "bb0fa87a-96f5-49af-bc40-9ac9f00d20b1"
      },
      "execution_count": 11,
      "outputs": [
        {
          "output_type": "stream",
          "name": "stdout",
          "text": [
            "['greater', 'equal', 'small', 'equal', 'greater']\n"
          ]
        }
      ]
    },
    {
      "cell_type": "markdown",
      "source": [
        "# list comprehension"
      ],
      "metadata": {
        "id": "RLNidd_R155N"
      }
    },
    {
      "cell_type": "markdown",
      "source": [
        "# **Creating** a list of squares:\n"
      ],
      "metadata": {
        "id": "UdQw3aja1-YI"
      }
    },
    {
      "cell_type": "code",
      "source": [
        "square = [x**2 for x in range(1,6)]\n",
        "print(square)"
      ],
      "metadata": {
        "colab": {
          "base_uri": "https://localhost:8080/"
        },
        "id": "ekpLs8jYbbpU",
        "outputId": "af58da48-24e0-4a87-becb-6b2f46c632ce"
      },
      "execution_count": 2,
      "outputs": [
        {
          "output_type": "stream",
          "name": "stdout",
          "text": [
            "[1, 4, 9, 16, 25]\n"
          ]
        }
      ]
    },
    {
      "cell_type": "markdown",
      "source": [
        "# Filtering even numbers:\n"
      ],
      "metadata": {
        "id": "LCrZJO1c2tJN"
      }
    },
    {
      "cell_type": "code",
      "source": [
        "even = [x for x in range(0,12) if x%2==0]\n",
        "\n",
        "print(even)"
      ],
      "metadata": {
        "colab": {
          "base_uri": "https://localhost:8080/"
        },
        "id": "2GLp9Nbu2vQx",
        "outputId": "2b2426ca-8470-4f7f-eeef-2444172cdff9"
      },
      "execution_count": 5,
      "outputs": [
        {
          "output_type": "stream",
          "name": "stdout",
          "text": [
            "[0, 2, 4, 6, 8, 10]\n"
          ]
        }
      ]
    },
    {
      "cell_type": "markdown",
      "source": [
        "# Transforming name in upper letters"
      ],
      "metadata": {
        "id": "x95cSHZ_3Ntl"
      }
    },
    {
      "cell_type": "code",
      "source": [
        "names = [\"Alice\", \"Bob\", \"Charlie\"]\n",
        "\n",
        "upper_names = [name.upper() for name in names]\n",
        "print(upper_names)"
      ],
      "metadata": {
        "colab": {
          "base_uri": "https://localhost:8080/"
        },
        "id": "w7cinV_X3PRA",
        "outputId": "1b33cff4-3b66-4886-9062-8ed128ae421b"
      },
      "execution_count": 6,
      "outputs": [
        {
          "output_type": "stream",
          "name": "stdout",
          "text": [
            "['ALICE', 'BOB', 'CHARLIE']\n"
          ]
        }
      ]
    },
    {
      "cell_type": "code",
      "source": [
        "names = [\"Alice\", \"Bob\", \"Charlie\"]\n",
        "\n",
        "upper_names = map(lambda x: x.upper(),names)\n",
        "print(list(upper_names))"
      ],
      "metadata": {
        "colab": {
          "base_uri": "https://localhost:8080/"
        },
        "id": "vuzZQKWA3wqp",
        "outputId": "51787a23-db34-41bd-eaa8-e256bfb5c015"
      },
      "execution_count": 7,
      "outputs": [
        {
          "output_type": "stream",
          "name": "stdout",
          "text": [
            "['ALICE', 'BOB', 'CHARLIE']\n"
          ]
        }
      ]
    },
    {
      "cell_type": "markdown",
      "source": [
        "# Creating a list with conditional values : even or odd"
      ],
      "metadata": {
        "id": "zz4dF8k53-kU"
      }
    },
    {
      "cell_type": "code",
      "source": [
        "numbers = [1,2,3,4,5,6,7,8,9,10]\n",
        "\n",
        "tags = [\"even\" if number%2==0 else \"odd\" for number in numbers]\n",
        "print(tags)"
      ],
      "metadata": {
        "colab": {
          "base_uri": "https://localhost:8080/"
        },
        "id": "LS5neHIM4PUH",
        "outputId": "071b5d12-b96e-46e3-9443-71a8cd424414"
      },
      "execution_count": 8,
      "outputs": [
        {
          "output_type": "stream",
          "name": "stdout",
          "text": [
            "['odd', 'even', 'odd', 'even', 'odd', 'even', 'odd', 'even', 'odd', 'even']\n"
          ]
        }
      ]
    },
    {
      "cell_type": "markdown",
      "source": [
        "# Flattening a 2D list"
      ],
      "metadata": {
        "id": "i_5x3N5J5UTR"
      }
    },
    {
      "cell_type": "code",
      "source": [
        "matrix = [[1, 2, 3], [4, 5, 6], [7, 8, 9]]\n",
        "flattened = [num for row in matrix for num in row]\n",
        "print(flattened)  # Output: [1, 2, 3, 4, 5, 6, 7, 8, 9]"
      ],
      "metadata": {
        "colab": {
          "base_uri": "https://localhost:8080/"
        },
        "id": "QdefZ6db4l_P",
        "outputId": "a23b2618-58c3-4262-9f85-63b29b5a0a02"
      },
      "execution_count": 12,
      "outputs": [
        {
          "output_type": "stream",
          "name": "stdout",
          "text": [
            "[1, 2, 3, 4, 5, 6, 7, 8, 9]\n"
          ]
        }
      ]
    },
    {
      "cell_type": "code",
      "source": [
        "matrix = [[1, 2, 3], [4, 5, 6], [7, 8, 9]]\n",
        "l = []\n",
        "for row in matrix:\n",
        "  for num in row:\n",
        "    l.append(num)\n",
        "print(l)"
      ],
      "metadata": {
        "colab": {
          "base_uri": "https://localhost:8080/"
        },
        "id": "IAtlpG3D5YEO",
        "outputId": "f34b93d3-db38-4029-8d52-1238b9a08603"
      },
      "execution_count": 11,
      "outputs": [
        {
          "output_type": "stream",
          "name": "stdout",
          "text": [
            "[1, 2, 3, 4, 5, 6, 7, 8, 9]\n"
          ]
        }
      ]
    },
    {
      "cell_type": "markdown",
      "source": [
        "# Dictionary comprehension"
      ],
      "metadata": {
        "id": "s5WwgrV38DAo"
      }
    },
    {
      "cell_type": "markdown",
      "source": [
        "# Creating a dictionary of squares:"
      ],
      "metadata": {
        "id": "dB7_7G1F8Hwb"
      }
    },
    {
      "cell_type": "code",
      "source": [
        "squares = {x:x**2 for x in range(2,10)}\n",
        "squares"
      ],
      "metadata": {
        "colab": {
          "base_uri": "https://localhost:8080/"
        },
        "id": "CYnWWTHo5gFc",
        "outputId": "193ff3af-0887-4292-8206-72b25e969890"
      },
      "execution_count": 18,
      "outputs": [
        {
          "output_type": "execute_result",
          "data": {
            "text/plain": [
              "{2: 4, 3: 9, 4: 16, 5: 25, 6: 36, 7: 49, 8: 64, 9: 81}"
            ]
          },
          "metadata": {},
          "execution_count": 18
        }
      ]
    },
    {
      "cell_type": "markdown",
      "source": [
        "# Filtering keys based on a condition"
      ],
      "metadata": {
        "id": "F4veYta783C1"
      }
    },
    {
      "cell_type": "code",
      "source": [
        "original = {'a': 1, 'b': 2, 'c': 3, 'd': 4}\n",
        "\n",
        "even_values = {k:v for k,v in original.items() if v%2==0}\n",
        "print(even_values)"
      ],
      "metadata": {
        "colab": {
          "base_uri": "https://localhost:8080/"
        },
        "id": "MUvOy47u8U__",
        "outputId": "a4dcf964-6a3e-4e4b-fcc7-819fa72c4825"
      },
      "execution_count": 24,
      "outputs": [
        {
          "output_type": "stream",
          "name": "stdout",
          "text": [
            "{'b': 2, 'd': 4}\n"
          ]
        }
      ]
    },
    {
      "cell_type": "code",
      "source": [
        "original = {'a': 1, 'b': 2, 'c': 8, 'd': 4}\n",
        "\n",
        "even_values ={}\n",
        "\n",
        "for k,v in original.items():\n",
        "  if v%2==0:\n",
        "    even_values[k]= v\n",
        "print(even_values)\n",
        "\n"
      ],
      "metadata": {
        "colab": {
          "base_uri": "https://localhost:8080/"
        },
        "id": "A8jHU0o39uja",
        "outputId": "41a0812e-d0db-4a30-e7df-f19c9340724e"
      },
      "execution_count": 29,
      "outputs": [
        {
          "output_type": "stream",
          "name": "stdout",
          "text": [
            "{'b': 2, 'c': 8, 'd': 4}\n"
          ]
        }
      ]
    },
    {
      "cell_type": "markdown",
      "source": [
        "# Creating a dictionary from two lists"
      ],
      "metadata": {
        "id": "CQ-sQ57Z_aox"
      }
    },
    {
      "cell_type": "code",
      "source": [
        "keys = ['name', 'age', 'job']\n",
        "values = ['Alice', 28, 'Developer']\n",
        "dicti = {}\n",
        "for k,v in zip(keys,values):\n",
        "  dicti[k] = v\n",
        "print(dicti)\n"
      ],
      "metadata": {
        "colab": {
          "base_uri": "https://localhost:8080/"
        },
        "id": "4g7ffAMc9ug2",
        "outputId": "ace808fa-6dc1-4ef6-fd45-f8eb37f4b410"
      },
      "execution_count": 39,
      "outputs": [
        {
          "output_type": "stream",
          "name": "stdout",
          "text": [
            "{'name': 'Alice', 'age': 28, 'job': 'Developer'}\n"
          ]
        }
      ]
    },
    {
      "cell_type": "code",
      "source": [
        "keys = ['name', 'age', 'job']\n",
        "values = ['Alice', 28, 'Developer']\n",
        "\n",
        "dicti = {k:v for k,v in zip(keys,values)}\n",
        "print(dicti)"
      ],
      "metadata": {
        "colab": {
          "base_uri": "https://localhost:8080/"
        },
        "id": "U_GFVJE6_df9",
        "outputId": "b0ed4f37-59ab-4ebc-cfeb-1c224ee53116"
      },
      "execution_count": 40,
      "outputs": [
        {
          "output_type": "stream",
          "name": "stdout",
          "text": [
            "{'name': 'Alice', 'age': 28, 'job': 'Developer'}\n"
          ]
        }
      ]
    },
    {
      "cell_type": "markdown",
      "source": [
        "# Converting values in a dictionary:\n"
      ],
      "metadata": {
        "id": "2qOwcW5j_7aw"
      }
    },
    {
      "cell_type": "code",
      "source": [
        "temperatures_c = {'New York': 20, 'London': 15, 'Paris': 25}\n",
        "\n",
        "temperatures_f = {city:temp*(9/5)+32 for city,temp in temperatures_c.items()}\n",
        "print(temperatures_f)"
      ],
      "metadata": {
        "colab": {
          "base_uri": "https://localhost:8080/"
        },
        "id": "Aj4b9Tlm_8La",
        "outputId": "8f3efd16-2ae2-4d75-9f34-934cb9434306"
      },
      "execution_count": 41,
      "outputs": [
        {
          "output_type": "stream",
          "name": "stdout",
          "text": [
            "{'New York': 68.0, 'London': 59.0, 'Paris': 77.0}\n"
          ]
        }
      ]
    },
    {
      "cell_type": "markdown",
      "source": [
        "# Creating a frequency dictionary:\n"
      ],
      "metadata": {
        "id": "s7ENIe5_A469"
      }
    },
    {
      "cell_type": "code",
      "source": [
        "text = \"hello world\"\n",
        "\n",
        "char_count = {char:text.count(char) for char in text}\n",
        "print(char_count)"
      ],
      "metadata": {
        "colab": {
          "base_uri": "https://localhost:8080/"
        },
        "id": "JfZRf0RmA5wb",
        "outputId": "cda4017e-0ec6-464f-bb58-7a3a19640e89"
      },
      "execution_count": 43,
      "outputs": [
        {
          "output_type": "stream",
          "name": "stdout",
          "text": [
            "{'h': 1, 'e': 1, 'l': 3, 'o': 2, ' ': 1, 'w': 1, 'r': 1, 'd': 1}\n"
          ]
        }
      ]
    },
    {
      "cell_type": "code",
      "source": [
        "text = \"hello world\"\n",
        "\n",
        "char_count = {}\n",
        "\n",
        "for char in text:\n",
        "  if char in char_count:\n",
        "    char_count[char] +=1\n",
        "  else:\n",
        "    char_count[char] = 1\n",
        "print(char_count)"
      ],
      "metadata": {
        "colab": {
          "base_uri": "https://localhost:8080/"
        },
        "id": "PvdrbTW_BTfl",
        "outputId": "5ace2dd9-6e11-4f61-bfce-2b513a16f57c"
      },
      "execution_count": 46,
      "outputs": [
        {
          "output_type": "stream",
          "name": "stdout",
          "text": [
            "{'h': 1, 'e': 1, 'l': 3, 'o': 2, ' ': 1, 'w': 1, 'r': 1, 'd': 1}\n"
          ]
        }
      ]
    },
    {
      "cell_type": "markdown",
      "source": [
        "# boolean"
      ],
      "metadata": {
        "id": "2R8kN7ysTNIA"
      }
    },
    {
      "cell_type": "code",
      "source": [
        "bool_var = False\n",
        "type(bool_var)"
      ],
      "metadata": {
        "colab": {
          "base_uri": "https://localhost:8080/"
        },
        "id": "oxoXoWB4TOma",
        "outputId": "fbec00ee-c668-45d5-9260-b5d97697e190"
      },
      "execution_count": 1,
      "outputs": [
        {
          "output_type": "execute_result",
          "data": {
            "text/plain": [
              "bool"
            ]
          },
          "metadata": {},
          "execution_count": 1
        }
      ]
    }
  ]
}