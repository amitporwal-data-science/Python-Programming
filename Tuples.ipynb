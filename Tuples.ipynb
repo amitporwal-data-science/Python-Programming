{
  "nbformat": 4,
  "nbformat_minor": 0,
  "metadata": {
    "colab": {
      "provenance": [],
      "authorship_tag": "ABX9TyP6yYzXneJrJCrrXUU/HJc6",
      "include_colab_link": true
    },
    "kernelspec": {
      "name": "python3",
      "display_name": "Python 3"
    },
    "language_info": {
      "name": "python"
    }
  },
  "cells": [
    {
      "cell_type": "markdown",
      "metadata": {
        "id": "view-in-github",
        "colab_type": "text"
      },
      "source": [
        "<a href=\"https://colab.research.google.com/github/amitporwal-data-science/Python-Programming/blob/main/Tuples.ipynb\" target=\"_parent\"><img src=\"https://colab.research.google.com/assets/colab-badge.svg\" alt=\"Open In Colab\"/></a>"
      ]
    },
    {
      "cell_type": "markdown",
      "source": [
        "# tuple support multiple data types"
      ],
      "metadata": {
        "id": "DYbVha4dmB_c"
      }
    },
    {
      "cell_type": "code",
      "execution_count": 11,
      "metadata": {
        "id": "K7MOR3M2lRZe"
      },
      "outputs": [],
      "source": [
        "a = (1,2.2,\"amit\", [1,2,3],(1,2,3),{2,3},{\"name\":\"amit\",\"age\":25})"
      ]
    },
    {
      "cell_type": "code",
      "source": [
        "a"
      ],
      "metadata": {
        "colab": {
          "base_uri": "https://localhost:8080/"
        },
        "id": "wVoiIA1Rlenv",
        "outputId": "81187921-3f8a-446a-d80e-cb0ab55c90c8"
      },
      "execution_count": 5,
      "outputs": [
        {
          "output_type": "execute_result",
          "data": {
            "text/plain": [
              "(1, 2.2, 'amit', [1, 2, 3], (1, 2, 3), {2, 3}, {'name': 'amit', 'age': 25})"
            ]
          },
          "metadata": {},
          "execution_count": 5
        }
      ]
    },
    {
      "cell_type": "markdown",
      "source": [
        "# for tuple, we need to specify more than 1 elements in ()"
      ],
      "metadata": {
        "id": "FzJeRLz6mqQW"
      }
    },
    {
      "cell_type": "code",
      "source": [
        "a = (1)\n",
        "type(a)"
      ],
      "metadata": {
        "colab": {
          "base_uri": "https://localhost:8080/"
        },
        "id": "KxEtSyhVlkOw",
        "outputId": "b5e08b96-aaf5-4bfd-82fc-e9dc027f7aeb"
      },
      "execution_count": 6,
      "outputs": [
        {
          "output_type": "execute_result",
          "data": {
            "text/plain": [
              "int"
            ]
          },
          "metadata": {},
          "execution_count": 6
        }
      ]
    },
    {
      "cell_type": "code",
      "source": [
        "a = (1,2)\n",
        "type(a)"
      ],
      "metadata": {
        "colab": {
          "base_uri": "https://localhost:8080/"
        },
        "id": "Sww9e9lkmlVa",
        "outputId": "398f328d-ed1e-4b44-9005-8acf7eafdd9d"
      },
      "execution_count": 8,
      "outputs": [
        {
          "output_type": "execute_result",
          "data": {
            "text/plain": [
              "tuple"
            ]
          },
          "metadata": {},
          "execution_count": 8
        }
      ]
    },
    {
      "cell_type": "code",
      "source": [
        "a = (1,2,3)\n",
        "sum(a)"
      ],
      "metadata": {
        "colab": {
          "base_uri": "https://localhost:8080/"
        },
        "id": "llYN-AkPmnUF",
        "outputId": "d2e9a59d-604f-4146-a946-38427dc50074"
      },
      "execution_count": 10,
      "outputs": [
        {
          "output_type": "execute_result",
          "data": {
            "text/plain": [
              "6"
            ]
          },
          "metadata": {},
          "execution_count": 10
        }
      ]
    },
    {
      "cell_type": "markdown",
      "source": [
        "# access elements using nested elements"
      ],
      "metadata": {
        "id": "oDS9Eaoiqkj2"
      }
    },
    {
      "cell_type": "code",
      "source": [
        "a"
      ],
      "metadata": {
        "colab": {
          "base_uri": "https://localhost:8080/"
        },
        "id": "w0IPYFsonCH8",
        "outputId": "be585280-a241-427a-c75a-5aec08bfd2d3"
      },
      "execution_count": 12,
      "outputs": [
        {
          "output_type": "execute_result",
          "data": {
            "text/plain": [
              "(1, 2.2, 'amit', [1, 2, 3], (1, 2, 3), {2, 3}, {'name': 'amit', 'age': 25})"
            ]
          },
          "metadata": {},
          "execution_count": 12
        }
      ]
    },
    {
      "cell_type": "code",
      "source": [
        "a[3][2]"
      ],
      "metadata": {
        "colab": {
          "base_uri": "https://localhost:8080/"
        },
        "id": "9mJkvqiaoTnW",
        "outputId": "888e3720-95ab-4266-b31f-ce13335c95a1"
      },
      "execution_count": 14,
      "outputs": [
        {
          "output_type": "execute_result",
          "data": {
            "text/plain": [
              "3"
            ]
          },
          "metadata": {},
          "execution_count": 14
        }
      ]
    },
    {
      "cell_type": "markdown",
      "source": [
        "# tuples support indexing and slicing beacuase it is ordered"
      ],
      "metadata": {
        "id": "rsCRYkdcqshQ"
      }
    },
    {
      "cell_type": "code",
      "source": [
        "a = (1,2,3,4,5,6)"
      ],
      "metadata": {
        "id": "uEetPaSDoV3Z"
      },
      "execution_count": 15,
      "outputs": []
    },
    {
      "cell_type": "code",
      "source": [
        "a[2]"
      ],
      "metadata": {
        "colab": {
          "base_uri": "https://localhost:8080/"
        },
        "id": "XVc4WxAEq8lh",
        "outputId": "fa3b5c3c-61a1-4725-af27-e89d7a166fab"
      },
      "execution_count": 16,
      "outputs": [
        {
          "output_type": "execute_result",
          "data": {
            "text/plain": [
              "3"
            ]
          },
          "metadata": {},
          "execution_count": 16
        }
      ]
    },
    {
      "cell_type": "code",
      "source": [
        "a[2:5]"
      ],
      "metadata": {
        "colab": {
          "base_uri": "https://localhost:8080/"
        },
        "id": "J_0hPSmSq-J4",
        "outputId": "365e1d27-21c4-4ea5-a979-c87e356e55be"
      },
      "execution_count": 17,
      "outputs": [
        {
          "output_type": "execute_result",
          "data": {
            "text/plain": [
              "(3, 4, 5)"
            ]
          },
          "metadata": {},
          "execution_count": 17
        }
      ]
    },
    {
      "cell_type": "code",
      "source": [
        "a[-1:-4:-1]"
      ],
      "metadata": {
        "colab": {
          "base_uri": "https://localhost:8080/"
        },
        "id": "3jFpP6DgrAMM",
        "outputId": "83a525be-f1c3-4c08-cbaf-f450ec76d00d"
      },
      "execution_count": 19,
      "outputs": [
        {
          "output_type": "execute_result",
          "data": {
            "text/plain": [
              "(6, 5, 4)"
            ]
          },
          "metadata": {},
          "execution_count": 19
        }
      ]
    },
    {
      "cell_type": "code",
      "source": [
        "a[::-1]"
      ],
      "metadata": {
        "colab": {
          "base_uri": "https://localhost:8080/"
        },
        "id": "NFcerDa3rFmQ",
        "outputId": "d1882a59-0fd6-4e20-db85-140991e8cb68"
      },
      "execution_count": 20,
      "outputs": [
        {
          "output_type": "execute_result",
          "data": {
            "text/plain": [
              "(6, 5, 4, 3, 2, 1)"
            ]
          },
          "metadata": {},
          "execution_count": 20
        }
      ]
    },
    {
      "cell_type": "markdown",
      "source": [
        "# len()"
      ],
      "metadata": {
        "id": "P1gqyvH9rX2J"
      }
    },
    {
      "cell_type": "code",
      "source": [
        "len(a)"
      ],
      "metadata": {
        "colab": {
          "base_uri": "https://localhost:8080/"
        },
        "id": "YjLgqIpBrSE9",
        "outputId": "f1c4f505-24ac-47d3-a735-108dc5a15aad"
      },
      "execution_count": 21,
      "outputs": [
        {
          "output_type": "execute_result",
          "data": {
            "text/plain": [
              "6"
            ]
          },
          "metadata": {},
          "execution_count": 21
        }
      ]
    },
    {
      "cell_type": "markdown",
      "source": [
        "# sorted()"
      ],
      "metadata": {
        "id": "n1pRTR26rd2n"
      }
    },
    {
      "cell_type": "code",
      "source": [
        "b = (5,6,2,1,5,9,7,3,2,6)"
      ],
      "metadata": {
        "id": "2f7uWMljrtj7"
      },
      "execution_count": 23,
      "outputs": []
    },
    {
      "cell_type": "code",
      "source": [
        "sorted(b,reverse = True)"
      ],
      "metadata": {
        "colab": {
          "base_uri": "https://localhost:8080/"
        },
        "id": "1SAbNxhLra_s",
        "outputId": "c905e9ba-0edf-44d2-d9f1-0bfce8a085d8"
      },
      "execution_count": 28,
      "outputs": [
        {
          "output_type": "execute_result",
          "data": {
            "text/plain": [
              "[9, 7, 6, 6, 5, 5, 3, 2, 2, 1]"
            ]
          },
          "metadata": {},
          "execution_count": 28
        }
      ]
    },
    {
      "cell_type": "code",
      "source": [
        "a = [1,2,3,8,6,474,36]\n",
        "sorted(a,reverse = True)"
      ],
      "metadata": {
        "colab": {
          "base_uri": "https://localhost:8080/"
        },
        "id": "PO-gT0tVrwsR",
        "outputId": "45e2e881-2288-4e16-cfb5-593352871dcd"
      },
      "execution_count": 30,
      "outputs": [
        {
          "output_type": "execute_result",
          "data": {
            "text/plain": [
              "[474, 36, 8, 6, 3, 2, 1]"
            ]
          },
          "metadata": {},
          "execution_count": 30
        }
      ]
    },
    {
      "cell_type": "code",
      "source": [
        "a = (\"Jenifer\", \"Sally\", \"Jane\")\n",
        "x = sorted(a, key=len,reverse = True)\n",
        "print(x)"
      ],
      "metadata": {
        "colab": {
          "base_uri": "https://localhost:8080/"
        },
        "id": "4GQ2lwGvsVFR",
        "outputId": "1b1ab9ff-8fb5-4cca-b855-fedc132b2ab0"
      },
      "execution_count": 35,
      "outputs": [
        {
          "output_type": "stream",
          "name": "stdout",
          "text": [
            "['Jenifer', 'Sally', 'Jane']\n"
          ]
        }
      ]
    },
    {
      "cell_type": "code",
      "source": [
        "sorted(a)"
      ],
      "metadata": {
        "colab": {
          "base_uri": "https://localhost:8080/"
        },
        "id": "1wb_nnQoslVE",
        "outputId": "68c5f2a6-5929-493f-a545-9ca1d0c1022e"
      },
      "execution_count": 33,
      "outputs": [
        {
          "output_type": "execute_result",
          "data": {
            "text/plain": [
              "['Jane', 'Jenifer', 'Sally']"
            ]
          },
          "metadata": {},
          "execution_count": 33
        }
      ]
    },
    {
      "cell_type": "markdown",
      "source": [
        "# index() : this fn return the index of specified elements"
      ],
      "metadata": {
        "id": "3SkrPto1vz8v"
      }
    },
    {
      "cell_type": "code",
      "source": [
        "a.index(\"Sally\")"
      ],
      "metadata": {
        "colab": {
          "base_uri": "https://localhost:8080/"
        },
        "id": "xWuxCmWTsvdA",
        "outputId": "bd21aa26-7fd9-4a56-f9cb-85ff45e22500"
      },
      "execution_count": 36,
      "outputs": [
        {
          "output_type": "execute_result",
          "data": {
            "text/plain": [
              "1"
            ]
          },
          "metadata": {},
          "execution_count": 36
        }
      ]
    },
    {
      "cell_type": "markdown",
      "source": [
        "# count() : this method return the total occurance of a specified element in tuple"
      ],
      "metadata": {
        "id": "CdRW4G6Lwha5"
      }
    },
    {
      "cell_type": "code",
      "source": [
        "t = (1,5,6,5,1,2,3,2,2,3,5)\n",
        "\n",
        "t.count(5)"
      ],
      "metadata": {
        "colab": {
          "base_uri": "https://localhost:8080/"
        },
        "id": "KYKJziLev-eo",
        "outputId": "3ae85418-a7ab-4ad0-943c-8b0e36e1ccb0"
      },
      "execution_count": 37,
      "outputs": [
        {
          "output_type": "execute_result",
          "data": {
            "text/plain": [
              "3"
            ]
          },
          "metadata": {},
          "execution_count": 37
        }
      ]
    },
    {
      "cell_type": "markdown",
      "source": [
        "# sum()"
      ],
      "metadata": {
        "id": "_2Sk75o0zVLh"
      }
    },
    {
      "cell_type": "code",
      "source": [
        "num = (1,2,3)\n",
        "sum(num)"
      ],
      "metadata": {
        "colab": {
          "base_uri": "https://localhost:8080/"
        },
        "id": "I6UEoO3NzXUR",
        "outputId": "d4f69aee-60e4-49d2-f178-eca7a2c5a206"
      },
      "execution_count": 54,
      "outputs": [
        {
          "output_type": "execute_result",
          "data": {
            "text/plain": [
              "6"
            ]
          },
          "metadata": {},
          "execution_count": 54
        }
      ]
    },
    {
      "cell_type": "markdown",
      "source": [
        "# zip fn : using it zip 2 tuple into 1 and convert into dictionary"
      ],
      "metadata": {
        "id": "DAM-bVQNxqe9"
      }
    },
    {
      "cell_type": "code",
      "source": [
        "city_name = (\"delhi\",\"patna\",\"cuttack\",\"guwahati\",\"lucknow\")\n",
        "river_name = (\"yumana\",\"ganga\",\"mahannadi\",\"brahmaputra\",\"gomati\")"
      ],
      "metadata": {
        "id": "rf7ZDwsdw2MS"
      },
      "execution_count": 38,
      "outputs": []
    },
    {
      "cell_type": "code",
      "source": [
        "zip(city_name,river_name)"
      ],
      "metadata": {
        "colab": {
          "base_uri": "https://localhost:8080/"
        },
        "id": "E1lH6Td-yala",
        "outputId": "8e644c45-30b6-4964-b1b8-b85abdabd833"
      },
      "execution_count": 39,
      "outputs": [
        {
          "output_type": "execute_result",
          "data": {
            "text/plain": [
              "<zip at 0x7b893e690780>"
            ]
          },
          "metadata": {},
          "execution_count": 39
        }
      ]
    },
    {
      "cell_type": "code",
      "source": [
        "city_and_their_rivers = dict(zip(city_name,river_name))"
      ],
      "metadata": {
        "id": "GiHxkAzRyczw"
      },
      "execution_count": 76,
      "outputs": []
    },
    {
      "cell_type": "code",
      "source": [
        "print(city_and_their_rivers)"
      ],
      "metadata": {
        "colab": {
          "base_uri": "https://localhost:8080/"
        },
        "id": "FT5caJRbylFi",
        "outputId": "2d15d96b-d35f-4ffb-a65b-216789ef4262"
      },
      "execution_count": 77,
      "outputs": [
        {
          "output_type": "stream",
          "name": "stdout",
          "text": [
            "{'delhi': 'yumana', 'patna': 'ganga', 'cuttack': 'mahannadi', 'guwahati': 'brahmaputra', 'lucknow': 'gomati'}\n"
          ]
        }
      ]
    },
    {
      "cell_type": "markdown",
      "source": [
        "# enumerate fn"
      ],
      "metadata": {
        "id": "Qd-85tGf0sUa"
      }
    },
    {
      "cell_type": "code",
      "source": [
        "x = ('apple', 'banana', 'cherry')\n",
        "dict(enumerate(x,1))"
      ],
      "metadata": {
        "colab": {
          "base_uri": "https://localhost:8080/"
        },
        "id": "giix2BjIypie",
        "outputId": "b84079dc-2d43-4102-bed1-5dcf394e1ebc"
      },
      "execution_count": 75,
      "outputs": [
        {
          "output_type": "execute_result",
          "data": {
            "text/plain": [
              "{1: 'apple', 2: 'banana', 3: 'cherry'}"
            ]
          },
          "metadata": {},
          "execution_count": 75
        }
      ]
    },
    {
      "cell_type": "code",
      "source": [],
      "metadata": {
        "id": "km6F37bt0u4_"
      },
      "execution_count": 75,
      "outputs": []
    },
    {
      "cell_type": "code",
      "source": [],
      "metadata": {
        "id": "MQqjMKFz0w70"
      },
      "execution_count": null,
      "outputs": []
    }
  ]
}