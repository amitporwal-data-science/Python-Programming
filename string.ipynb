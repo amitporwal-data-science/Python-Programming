{
  "nbformat": 4,
  "nbformat_minor": 0,
  "metadata": {
    "colab": {
      "provenance": [],
      "authorship_tag": "ABX9TyPR3+GxRvHleFzRMr6pUOoi",
      "include_colab_link": true
    },
    "kernelspec": {
      "name": "python3",
      "display_name": "Python 3"
    },
    "language_info": {
      "name": "python"
    }
  },
  "cells": [
    {
      "cell_type": "markdown",
      "metadata": {
        "id": "view-in-github",
        "colab_type": "text"
      },
      "source": [
        "<a href=\"https://colab.research.google.com/github/amitporwal-data-science/Python-Programming/blob/main/string.ipynb\" target=\"_parent\"><img src=\"https://colab.research.google.com/assets/colab-badge.svg\" alt=\"Open In Colab\"/></a>"
      ]
    },
    {
      "cell_type": "markdown",
      "source": [
        "**len()**"
      ],
      "metadata": {
        "id": "sHktFSn-4wao"
      }
    },
    {
      "cell_type": "code",
      "execution_count": 7,
      "metadata": {
        "colab": {
          "base_uri": "https://localhost:8080/"
        },
        "id": "xYIEAi_t4s0S",
        "outputId": "d247dcb3-6647-43e7-df11-0884bf8cc08a"
      },
      "outputs": [
        {
          "output_type": "stream",
          "name": "stdout",
          "text": [
            "5\n"
          ]
        }
      ],
      "source": [
        "# check length of variable\n",
        "fruit = \"Apple\"\n",
        "\n",
        "print(len(fruit))"
      ]
    },
    {
      "cell_type": "code",
      "source": [
        "about_location = \"\"\"\n",
        "Pahalgam (Urdu pronunciation: [pɛɦɛlɡɑːm]) or Pahalgom (Kashmiri pronunciation: [pəhəlʲɡoːm]) is a town in Anantnag district of the Indian union territory of Jammu and Kashmir.\\n It is located on the banks of Lidder River at an altitude of 2,200 m (7,200 ft) in the Vale of Kashmir. Pahalgam is the headquarters of the Pahalgam tehsil, one of the eleven tehsils in Anantnag district.\n",
        "\"\"\""
      ],
      "metadata": {
        "id": "EiFs2ing5NCx"
      },
      "execution_count": 9,
      "outputs": []
    },
    {
      "cell_type": "code",
      "source": [
        "print(len(about_location))"
      ],
      "metadata": {
        "colab": {
          "base_uri": "https://localhost:8080/"
        },
        "id": "APMauJYc6pBk",
        "outputId": "2efc5b0d-e687-46a8-d6cb-6a175d3ed65c"
      },
      "execution_count": 11,
      "outputs": [
        {
          "output_type": "stream",
          "name": "stdout",
          "text": [
            "384\n"
          ]
        }
      ]
    },
    {
      "cell_type": "markdown",
      "source": [
        "# Write a Python function that takes a name as input and returns a message saying \"Your name has X characters\" where X is the length of the name."
      ],
      "metadata": {
        "id": "S171uQGY71Hq"
      }
    },
    {
      "cell_type": "code",
      "source": [
        "def name_length(name):\n",
        "  return len(name)\n",
        "\n",
        "name = input(\"what your name ? : My name is \")\n",
        "name_length(name)"
      ],
      "metadata": {
        "colab": {
          "base_uri": "https://localhost:8080/"
        },
        "id": "hdb7DM9f72To",
        "outputId": "a2403d9f-0ba4-4b28-d020-86e8910e3bac"
      },
      "execution_count": 16,
      "outputs": [
        {
          "name": "stdout",
          "output_type": "stream",
          "text": [
            "what your name ? : My name is Amit Porwal\n"
          ]
        },
        {
          "output_type": "execute_result",
          "data": {
            "text/plain": [
              "11"
            ]
          },
          "metadata": {},
          "execution_count": 16
        }
      ]
    },
    {
      "cell_type": "markdown",
      "source": [
        "# Create a function that checks if a password is at least 8 characters long. Return True if it meets the minimum length requirement and False otherwise."
      ],
      "metadata": {
        "id": "eXhVQ_I49MbQ"
      }
    },
    {
      "cell_type": "code",
      "source": [
        "def is_valid_length(password):\n",
        "  return len(password) >=8\n",
        "\n",
        "password = input(\"Enter your password :\")\n",
        "\n",
        "is_valid_length(password)"
      ],
      "metadata": {
        "colab": {
          "base_uri": "https://localhost:8080/"
        },
        "id": "laa6dHC69NMc",
        "outputId": "79e59151-871d-4cad-c8e8-a6fb7fd423cc"
      },
      "execution_count": 20,
      "outputs": [
        {
          "name": "stdout",
          "output_type": "stream",
          "text": [
            "Enter your password :@$gfj676\n"
          ]
        },
        {
          "output_type": "execute_result",
          "data": {
            "text/plain": [
              "True"
            ]
          },
          "metadata": {},
          "execution_count": 20
        }
      ]
    },
    {
      "cell_type": "markdown",
      "source": [
        "# Write a function that returns the length of a string after removing all spaces."
      ],
      "metadata": {
        "id": "SyMF5TpM972I"
      }
    },
    {
      "cell_type": "code",
      "source": [
        "def length_without_space(text):\n",
        "  text_without_space = text.replace(\" \",\"\")\n",
        "  return len(text_without_space)\n",
        "\n",
        "text = input(\"Enter your text :\")\n",
        "\n",
        "length_without_space(text)"
      ],
      "metadata": {
        "colab": {
          "base_uri": "https://localhost:8080/"
        },
        "id": "xGQExU5D98uk",
        "outputId": "c22564e3-df11-41a6-d0b5-24beaba85fbe"
      },
      "execution_count": 23,
      "outputs": [
        {
          "name": "stdout",
          "output_type": "stream",
          "text": [
            "Enter your text :rvbg    685 d@ #5gf\n"
          ]
        },
        {
          "output_type": "execute_result",
          "data": {
            "text/plain": [
              "13"
            ]
          },
          "metadata": {},
          "execution_count": 23
        }
      ]
    },
    {
      "cell_type": "markdown",
      "source": [
        "#  Create a function that takes a sentence and returns a dictionary where keys are the words and values are their lengths."
      ],
      "metadata": {
        "id": "CjCX5zC0_K33"
      }
    },
    {
      "cell_type": "code",
      "source": [
        "def word_length(sentence):\n",
        "  words = sentence.split()\n",
        "  word_lengths = {}\n",
        "  for word in words:\n",
        "    word_lengths[word] = len(word)\n",
        "  return word_lengths\n",
        "\n",
        "sentence = input(\"Enter your sentence :\")\n",
        "\n",
        "word_length(sentence)"
      ],
      "metadata": {
        "colab": {
          "base_uri": "https://localhost:8080/"
        },
        "id": "0bnMJGeH_L0a",
        "outputId": "5d748f68-7074-4079-9d08-7e977e2a1006"
      },
      "execution_count": 29,
      "outputs": [
        {
          "name": "stdout",
          "output_type": "stream",
          "text": [
            "Enter your sentence :my name is amit\n"
          ]
        },
        {
          "output_type": "execute_result",
          "data": {
            "text/plain": [
              "{'my': 2, 'name': 4, 'is': 2, 'amit': 4}"
            ]
          },
          "metadata": {},
          "execution_count": 29
        }
      ]
    },
    {
      "cell_type": "markdown",
      "source": [
        "# Write a function that checks if a message is within the 280-character limit for a tweet. The function should return the message if it's within the limit, otherwise return the message truncated to 277 characters with \"...\" appended at the end."
      ],
      "metadata": {
        "id": "OUb_YC0vA48D"
      }
    },
    {
      "cell_type": "code",
      "source": [
        "def tweet_format(message):\n",
        "  if len(message) <= 280:\n",
        "    return message\n",
        "  else:\n",
        "    message_truncate = message[0:277]+\"...\"\n",
        "    return message_truncate\n",
        "\n",
        "message = input(\"Enter your message :\")\n",
        "\n",
        "tweet_format(message)"
      ],
      "metadata": {
        "colab": {
          "base_uri": "https://localhost:8080/",
          "height": 53
        },
        "id": "Oj3hrq2OA50U",
        "outputId": "4ddf5f1b-6bea-4d15-9b8a-20390fa870f6"
      },
      "execution_count": 33,
      "outputs": [
        {
          "name": "stdout",
          "output_type": "stream",
          "text": [
            "Enter your message :Modern humans arrived on the Indian subcontinent from Africa no later than 55,000 years ago.\n"
          ]
        },
        {
          "output_type": "execute_result",
          "data": {
            "text/plain": [
              "'Modern humans arrived on the Indian subcontinent from Africa no later than 55,000 years ago.'"
            ],
            "application/vnd.google.colaboratory.intrinsic+json": {
              "type": "string"
            }
          },
          "metadata": {},
          "execution_count": 33
        }
      ]
    },
    {
      "cell_type": "markdown",
      "source": [
        "# Write a function that takes multiple strings as arguments and returns the total combined length of all strings."
      ],
      "metadata": {
        "id": "fUmWgFfBC4ie"
      }
    },
    {
      "cell_type": "code",
      "source": [
        "def total_length(*strings):\n",
        "  total  = 0\n",
        "  for string in strings:\n",
        "    total += len(string)\n",
        "  return total\n",
        "\n",
        "total_length(\"Hello\",\"World\")"
      ],
      "metadata": {
        "colab": {
          "base_uri": "https://localhost:8080/"
        },
        "id": "MORoqdobBl0a",
        "outputId": "b125be72-5abc-44c0-f27f-2b03659e2df8"
      },
      "execution_count": 36,
      "outputs": [
        {
          "output_type": "execute_result",
          "data": {
            "text/plain": [
              "10"
            ]
          },
          "metadata": {},
          "execution_count": 36
        }
      ]
    },
    {
      "cell_type": "code",
      "source": [
        "string[0]"
      ],
      "metadata": {
        "colab": {
          "base_uri": "https://localhost:8080/",
          "height": 35
        },
        "id": "0QHjU6B3EcGr",
        "outputId": "a06f2616-1cb0-4059-c872-8da398019fda"
      },
      "execution_count": 58,
      "outputs": [
        {
          "output_type": "execute_result",
          "data": {
            "text/plain": [
              "'H'"
            ],
            "application/vnd.google.colaboratory.intrinsic+json": {
              "type": "string"
            }
          },
          "metadata": {},
          "execution_count": 58
        }
      ]
    },
    {
      "cell_type": "markdown",
      "source": [
        "# format values in 2 digits after decimal using f string"
      ],
      "metadata": {
        "id": "xgY43G8_KcZq"
      }
    },
    {
      "cell_type": "code",
      "source": [
        "pi = 3.14159\n",
        "\n",
        "f\"{pi:.2f}\""
      ],
      "metadata": {
        "colab": {
          "base_uri": "https://localhost:8080/",
          "height": 35
        },
        "id": "N0sbxD5lJckE",
        "outputId": "fee166d5-7344-485a-d08b-fbc94a5a94c1"
      },
      "execution_count": 69,
      "outputs": [
        {
          "output_type": "execute_result",
          "data": {
            "text/plain": [
              "'3.14'"
            ],
            "application/vnd.google.colaboratory.intrinsic+json": {
              "type": "string"
            }
          },
          "metadata": {},
          "execution_count": 69
        }
      ]
    },
    {
      "cell_type": "markdown",
      "source": [
        "# strip fn"
      ],
      "metadata": {
        "id": "6hbDm3orM9BS"
      }
    },
    {
      "cell_type": "markdown",
      "source": [
        "# Write a function that removes all leading and trailing whitespace from a given string and returns the cleaned string and its new length."
      ],
      "metadata": {
        "id": "2S7b75IwNDdP"
      }
    },
    {
      "cell_type": "code",
      "source": [
        "def clean_string(string):\n",
        "  cleaned = string.strip()\n",
        "  return cleaned, len(cleaned)\n",
        "\n",
        "string = input(\"Enter you string :\")\n",
        "\n",
        "output = clean_string(string)\n",
        "print(output)"
      ],
      "metadata": {
        "colab": {
          "base_uri": "https://localhost:8080/"
        },
        "id": "D-al8EbPM-hH",
        "outputId": "21414c24-fb34-40ee-a7cd-1c0e809b280f"
      },
      "execution_count": 77,
      "outputs": [
        {
          "output_type": "stream",
          "name": "stdout",
          "text": [
            "Enter you string :amit porwal\n",
            "('amit porwal', 11)\n"
          ]
        }
      ]
    },
    {
      "cell_type": "markdown",
      "source": [
        "# Create a function that removes specific characters from both ends of a string. The function should take a string and a set of characters to remove."
      ],
      "metadata": {
        "id": "q9C55-PdOufq"
      }
    },
    {
      "cell_type": "code",
      "source": [
        "def strip_chars(text,chars_to_remove):\n",
        "  text = text.strip(chars_to_remove)\n",
        "  return text\n",
        "\n",
        "text = input(\"Enter your text :\")\n",
        "chars_to_remove = input(\"Enter your chars to remove :\")\n",
        "\n",
        "strip_chars(text,chars_to_remove)"
      ],
      "metadata": {
        "colab": {
          "base_uri": "https://localhost:8080/",
          "height": 70
        },
        "id": "X1_ZXGlcOvW-",
        "outputId": "d2d3a337-7407-4b65-8aaf-aaf0e921d55a"
      },
      "execution_count": 79,
      "outputs": [
        {
          "name": "stdout",
          "output_type": "stream",
          "text": [
            "Enter your text :%%%helloworld%%%%%%%%%%%%%\n",
            "Enter your chars to remove :%\n"
          ]
        },
        {
          "output_type": "execute_result",
          "data": {
            "text/plain": [
              "'helloworld'"
            ],
            "application/vnd.google.colaboratory.intrinsic+json": {
              "type": "string"
            }
          },
          "metadata": {},
          "execution_count": 79
        }
      ]
    },
    {
      "cell_type": "markdown",
      "source": [
        "# Write a function that takes a list of strings, removes all leading and trailing whitespace from each string, and returns a new list with the cleaned strings. Additionally, your function should exclude any strings that become empty after stripping."
      ],
      "metadata": {
        "id": "RprNKgaRPjrm"
      }
    },
    {
      "cell_type": "code",
      "source": [
        "countries = [\"  india \",\"  srilanka   \", \"    \", \"Myanmar\",\" Cambodia  \",\"    China\"]\n",
        "\n",
        "new_countries = [country.strip() for country in countries if country.strip()!='']\n",
        "print(new_countries)"
      ],
      "metadata": {
        "colab": {
          "base_uri": "https://localhost:8080/"
        },
        "id": "eBZvajDZPjN2",
        "outputId": "2847e809-ae14-466c-8c68-6a1d89ebfa94"
      },
      "execution_count": 81,
      "outputs": [
        {
          "output_type": "stream",
          "name": "stdout",
          "text": [
            "['india', 'srilanka', 'Myanmar', 'Cambodia', 'China']\n"
          ]
        }
      ]
    },
    {
      "cell_type": "code",
      "source": [
        "def clean_string_list(string_list):\n",
        "  new_list = []\n",
        "  for text in string_list:\n",
        "    if text.strip() !='':\n",
        "      new_list.append(text.strip())\n",
        "  return new_list\n",
        "\n",
        "string_list = [\"  india \",\"  srilanka   \", \"    \", \"Myanmar\",\" Cambodia  \",\"    China\"]\n",
        "\n",
        "clean_string_list(string_list)\n"
      ],
      "metadata": {
        "colab": {
          "base_uri": "https://localhost:8080/"
        },
        "id": "XET4r70zQnsx",
        "outputId": "7f45410e-4758-4313-b21c-76e83ea23800"
      },
      "execution_count": 82,
      "outputs": [
        {
          "output_type": "execute_result",
          "data": {
            "text/plain": [
              "['india', 'srilanka', 'Myanmar', 'Cambodia', 'China']"
            ]
          },
          "metadata": {},
          "execution_count": 82
        }
      ]
    },
    {
      "cell_type": "markdown",
      "source": [
        "# split()"
      ],
      "metadata": {
        "id": "HW9tGbjmY-JW"
      }
    },
    {
      "cell_type": "code",
      "source": [
        "sentence = \"python is fun language\"\n",
        "\n",
        "lis = sentence.split(' ',2)\n",
        "\n",
        "print(lis)"
      ],
      "metadata": {
        "colab": {
          "base_uri": "https://localhost:8080/"
        },
        "id": "mxaabvAVY_vO",
        "outputId": "a14aca1d-920d-4616-c5a6-d3fe6bf21bcd"
      },
      "execution_count": 90,
      "outputs": [
        {
          "output_type": "stream",
          "name": "stdout",
          "text": [
            "['python', 'is', 'fun language']\n"
          ]
        }
      ]
    },
    {
      "cell_type": "code",
      "source": [
        "data = \"name:John;age:30;job:developer\"\n",
        "\n",
        "customer_data = data.split(';')\n",
        "\n",
        "for item in customer_data:\n",
        "  key,value = item.split(':')\n",
        "  print(f\"{key}:{value}\")"
      ],
      "metadata": {
        "colab": {
          "base_uri": "https://localhost:8080/"
        },
        "id": "Sz3PjxspZGhn",
        "outputId": "b0fbed2f-8984-4c56-d688-48986b9be33e"
      },
      "execution_count": 92,
      "outputs": [
        {
          "output_type": "stream",
          "name": "stdout",
          "text": [
            "name:John\n",
            "age:30\n",
            "job:developer\n"
          ]
        }
      ]
    },
    {
      "cell_type": "code",
      "source": [
        "multiline = \"\"\"First line\n",
        "Second line\n",
        "Third line\"\"\"\n",
        "\n",
        "print(multiline.splitlines())"
      ],
      "metadata": {
        "colab": {
          "base_uri": "https://localhost:8080/"
        },
        "id": "eF8TCR30bVZP",
        "outputId": "9765df24-047a-4865-8cab-9c7f9176e7cf"
      },
      "execution_count": 99,
      "outputs": [
        {
          "output_type": "stream",
          "name": "stdout",
          "text": [
            "['First line', 'Second line', 'Third line']\n"
          ]
        }
      ]
    },
    {
      "cell_type": "markdown",
      "source": [
        "# python indexing"
      ],
      "metadata": {
        "id": "CHF7F3_QfM3z"
      }
    },
    {
      "cell_type": "code",
      "source": [
        "sentence = \"i am learning python\"\n",
        "\n",
        "sentence[-1:-6]"
      ],
      "metadata": {
        "colab": {
          "base_uri": "https://localhost:8080/",
          "height": 35
        },
        "id": "PyYOcADTbWGw",
        "outputId": "26a8aebe-496c-44eb-83de-3de65bdfa9a8"
      },
      "execution_count": 114,
      "outputs": [
        {
          "output_type": "execute_result",
          "data": {
            "text/plain": [
              "''"
            ],
            "application/vnd.google.colaboratory.intrinsic+json": {
              "type": "string"
            }
          },
          "metadata": {},
          "execution_count": 114
        }
      ]
    },
    {
      "cell_type": "code",
      "source": [
        "sentence[3]"
      ],
      "metadata": {
        "colab": {
          "base_uri": "https://localhost:8080/",
          "height": 35
        },
        "id": "ApoeWSJlgFPQ",
        "outputId": "124227ab-5973-4216-d787-5da7b1b82b3d"
      },
      "execution_count": 107,
      "outputs": [
        {
          "output_type": "execute_result",
          "data": {
            "text/plain": [
              "'m'"
            ],
            "application/vnd.google.colaboratory.intrinsic+json": {
              "type": "string"
            }
          },
          "metadata": {},
          "execution_count": 107
        }
      ]
    },
    {
      "cell_type": "code",
      "source": [
        "a = id(sentence)\n",
        "\n",
        "print(a)"
      ],
      "metadata": {
        "colab": {
          "base_uri": "https://localhost:8080/"
        },
        "id": "IMXIMOGfwIw8",
        "outputId": "1e714244-a61b-488f-9a8d-36d12e0d9b93"
      },
      "execution_count": 117,
      "outputs": [
        {
          "output_type": "stream",
          "name": "stdout",
          "text": [
            "133260128939552\n"
          ]
        }
      ]
    },
    {
      "cell_type": "code",
      "source": [
        "sentence = sentence.lower()\n",
        "\n",
        "a = id(sentence)\n",
        "\n",
        "print(a)"
      ],
      "metadata": {
        "colab": {
          "base_uri": "https://localhost:8080/"
        },
        "id": "hzeyf_iPwLAH",
        "outputId": "f80e426e-d443-4441-d171-e88f3b097ab1"
      },
      "execution_count": 118,
      "outputs": [
        {
          "output_type": "stream",
          "name": "stdout",
          "text": [
            "133260128940672\n"
          ]
        }
      ]
    },
    {
      "cell_type": "code",
      "source": [
        "print(sentence)"
      ],
      "metadata": {
        "colab": {
          "base_uri": "https://localhost:8080/"
        },
        "id": "EzRsI9bBwfmb",
        "outputId": "78439561-1194-4d3c-d764-cfd967c850b5"
      },
      "execution_count": 119,
      "outputs": [
        {
          "output_type": "stream",
          "name": "stdout",
          "text": [
            "i am learning python\n"
          ]
        }
      ]
    },
    {
      "cell_type": "code",
      "source": [
        "lis = [1,2,3,4]\n",
        "print(id(lis))"
      ],
      "metadata": {
        "colab": {
          "base_uri": "https://localhost:8080/"
        },
        "id": "ZTmKsUEFwjXe",
        "outputId": "0a15f7dd-e7d8-4e59-81ae-9d24172623ff"
      },
      "execution_count": 125,
      "outputs": [
        {
          "output_type": "stream",
          "name": "stdout",
          "text": [
            "133260129247616\n"
          ]
        }
      ]
    },
    {
      "cell_type": "code",
      "source": [
        "id(lis)"
      ],
      "metadata": {
        "colab": {
          "base_uri": "https://localhost:8080/"
        },
        "id": "Aa6AUbNWxKZb",
        "outputId": "5e7c5b52-7e76-4c35-f0c8-64190fa586ef"
      },
      "execution_count": 126,
      "outputs": [
        {
          "output_type": "execute_result",
          "data": {
            "text/plain": [
              "133260129247616"
            ]
          },
          "metadata": {},
          "execution_count": 126
        }
      ]
    },
    {
      "cell_type": "code",
      "source": [
        "lis = [5,6,7,8]\n",
        "print(id(lis))"
      ],
      "metadata": {
        "colab": {
          "base_uri": "https://localhost:8080/"
        },
        "id": "idlOT0twwpSy",
        "outputId": "2be60fb0-1f07-494e-95ea-748303969a02"
      },
      "execution_count": 127,
      "outputs": [
        {
          "output_type": "stream",
          "name": "stdout",
          "text": [
            "133260130531648\n"
          ]
        }
      ]
    },
    {
      "cell_type": "markdown",
      "source": [
        "# python slicing"
      ],
      "metadata": {
        "id": "adPA6tmVFXSj"
      }
    },
    {
      "cell_type": "markdown",
      "source": [
        "# Given data = [5, 10, 15, 20, 25, 30, 35, 40], write a slice expression to get [30, 20, 10]."
      ],
      "metadata": {
        "id": "E5mykSlXGxc0"
      }
    },
    {
      "cell_type": "code",
      "source": [
        "# method 1\n",
        "data = [5, 10, 15, 20, 25, 30, 35, 40]\n",
        "\n",
        "data[5:0:-2]"
      ],
      "metadata": {
        "colab": {
          "base_uri": "https://localhost:8080/"
        },
        "id": "yXuehO2sFbK2",
        "outputId": "4398d5e4-8c2b-4d68-de6f-b3e6cbbf00db"
      },
      "execution_count": 5,
      "outputs": [
        {
          "output_type": "execute_result",
          "data": {
            "text/plain": [
              "[30, 20, 10]"
            ]
          },
          "metadata": {},
          "execution_count": 5
        }
      ]
    },
    {
      "cell_type": "code",
      "source": [
        "# method 2\n",
        "reverse = data[::-1]\n",
        "\n",
        "reverse[2::2]"
      ],
      "metadata": {
        "colab": {
          "base_uri": "https://localhost:8080/"
        },
        "id": "fwfGryChHQVt",
        "outputId": "68a28b1c-396e-4e16-8dee-6271d680fe51"
      },
      "execution_count": 4,
      "outputs": [
        {
          "output_type": "execute_result",
          "data": {
            "text/plain": [
              "[30, 20, 10]"
            ]
          },
          "metadata": {},
          "execution_count": 4
        }
      ]
    },
    {
      "cell_type": "markdown",
      "source": [
        "# Given text = \"Python is a versatile language\", use slicing to return every third character from the string, starting from the second character."
      ],
      "metadata": {
        "id": "VLjRAPyAH2Od"
      }
    },
    {
      "cell_type": "code",
      "source": [
        "text = \"Python is a versatile language\"\n",
        "\n",
        "text[1::3]"
      ],
      "metadata": {
        "colab": {
          "base_uri": "https://localhost:8080/",
          "height": 35
        },
        "id": "VUrwxxk6HQSa",
        "outputId": "b4d8a51d-0156-4792-e2b0-8b6202df4b27"
      },
      "execution_count": 6,
      "outputs": [
        {
          "output_type": "execute_result",
          "data": {
            "text/plain": [
              "'yoiaeallgg'"
            ],
            "application/vnd.google.colaboratory.intrinsic+json": {
              "type": "string"
            }
          },
          "metadata": {},
          "execution_count": 6
        }
      ]
    },
    {
      "cell_type": "markdown",
      "source": [
        "# Given matrix = [[1, 2, 3], [4, 5, 6], [7, 8, 9]], use slicing to extract the diagonal elements."
      ],
      "metadata": {
        "id": "1Gkj9wOPJEq2"
      }
    },
    {
      "cell_type": "code",
      "source": [
        "matrix = [[1, 2, 3], [4, 5, 6], [7, 8, 9]]"
      ],
      "metadata": {
        "id": "QKnzafrrJFbd"
      },
      "execution_count": 7,
      "outputs": []
    },
    {
      "cell_type": "code",
      "source": [
        "elements = []\n",
        "\n",
        "for i in range(len(matrix)):\n",
        "  elements.append(matrix[i][i])\n",
        "\n",
        "print(elements)"
      ],
      "metadata": {
        "colab": {
          "base_uri": "https://localhost:8080/"
        },
        "id": "OG_TEs-MJIB6",
        "outputId": "896899f7-831b-4d70-b094-dce9356751cc"
      },
      "execution_count": 9,
      "outputs": [
        {
          "output_type": "stream",
          "name": "stdout",
          "text": [
            "[1, 5, 9]\n"
          ]
        }
      ]
    },
    {
      "cell_type": "code",
      "source": [
        "elements = [matrix[i][i] for i in range(len(matrix))]\n",
        "print(elements)"
      ],
      "metadata": {
        "colab": {
          "base_uri": "https://localhost:8080/"
        },
        "id": "Ntr27UIIJgA5",
        "outputId": "ddd28c4d-8526-4b5d-d834-5fe472d69de7"
      },
      "execution_count": 10,
      "outputs": [
        {
          "output_type": "stream",
          "name": "stdout",
          "text": [
            "[1, 5, 9]\n"
          ]
        }
      ]
    },
    {
      "cell_type": "markdown",
      "source": [
        "# check a string is palindrome or not"
      ],
      "metadata": {
        "id": "7zIPXJSYKDuE"
      }
    },
    {
      "cell_type": "code",
      "source": [
        "string = 'racecar'\n",
        "\n",
        "if string == string[::-1]:\n",
        "  print(\"palindrome\")\n",
        "else:\n",
        "  print(\"not palindrome\")"
      ],
      "metadata": {
        "colab": {
          "base_uri": "https://localhost:8080/"
        },
        "id": "TvsonNi0J8aB",
        "outputId": "59e5a484-8240-4aed-c3e5-128c766acc63"
      },
      "execution_count": 15,
      "outputs": [
        {
          "output_type": "stream",
          "name": "stdout",
          "text": [
            "palindrome\n"
          ]
        }
      ]
    },
    {
      "cell_type": "markdown",
      "source": [
        "# With message = \"Python is amazing\", create a slice that returns every character at even indices."
      ],
      "metadata": {
        "id": "fJ2PiAYzKnwQ"
      }
    },
    {
      "cell_type": "code",
      "source": [
        "message = \"Python is amazing\""
      ],
      "metadata": {
        "id": "-eR9682ZKpu4"
      },
      "execution_count": 16,
      "outputs": []
    },
    {
      "cell_type": "code",
      "source": [
        "message[::2]"
      ],
      "metadata": {
        "colab": {
          "base_uri": "https://localhost:8080/",
          "height": 35
        },
        "id": "EdC4ALOLKytY",
        "outputId": "c349ba9a-c410-4fd5-f263-8ac444bbf67d"
      },
      "execution_count": 17,
      "outputs": [
        {
          "output_type": "execute_result",
          "data": {
            "text/plain": [
              "'Pto saaig'"
            ],
            "application/vnd.google.colaboratory.intrinsic+json": {
              "type": "string"
            }
          },
          "metadata": {},
          "execution_count": 17
        }
      ]
    },
    {
      "cell_type": "code",
      "source": [
        "message = \"Python is amazing\"\n",
        "even_indices = list(range(0, len(message), 2))\n",
        "print(even_indices)\n",
        "even_chars = ''.join([message[i] for i in even_indices])\n",
        "print(even_chars)  # Output: \"Pto saai\""
      ],
      "metadata": {
        "colab": {
          "base_uri": "https://localhost:8080/"
        },
        "id": "j_Ow0zUvLZwe",
        "outputId": "6d042a2a-90e5-45d5-968b-eabadd5c2db7"
      },
      "execution_count": 19,
      "outputs": [
        {
          "output_type": "stream",
          "name": "stdout",
          "text": [
            "[0, 2, 4, 6, 8, 10, 12, 14, 16]\n",
            "Pto saaig\n"
          ]
        }
      ]
    },
    {
      "cell_type": "markdown",
      "source": [
        "# index and find"
      ],
      "metadata": {
        "id": "ybhmkwfwL0q3"
      }
    },
    {
      "cell_type": "markdown",
      "source": [
        "# What is the main difference between index() and find() when the substring is not found?\n"
      ],
      "metadata": {
        "id": "m1-QSNRsOAi0"
      }
    },
    {
      "cell_type": "code",
      "source": [
        "a = \"hello world\"\n",
        "\n",
        "index = a.index('z')\n",
        "print(index)\n",
        "\n"
      ],
      "metadata": {
        "colab": {
          "base_uri": "https://localhost:8080/",
          "height": 211
        },
        "id": "IDuMXjFOMJd1",
        "outputId": "4fae943d-1521-43ec-aa10-bdd876803489"
      },
      "execution_count": 21,
      "outputs": [
        {
          "output_type": "error",
          "ename": "ValueError",
          "evalue": "substring not found",
          "traceback": [
            "\u001b[0;31m---------------------------------------------------------------------------\u001b[0m",
            "\u001b[0;31mValueError\u001b[0m                                Traceback (most recent call last)",
            "\u001b[0;32m<ipython-input-21-94f33bf2775f>\u001b[0m in \u001b[0;36m<cell line: 0>\u001b[0;34m()\u001b[0m\n\u001b[1;32m      1\u001b[0m \u001b[0ma\u001b[0m \u001b[0;34m=\u001b[0m \u001b[0;34m\"hello world\"\u001b[0m\u001b[0;34m\u001b[0m\u001b[0;34m\u001b[0m\u001b[0m\n\u001b[1;32m      2\u001b[0m \u001b[0;34m\u001b[0m\u001b[0m\n\u001b[0;32m----> 3\u001b[0;31m \u001b[0mindex\u001b[0m \u001b[0;34m=\u001b[0m \u001b[0ma\u001b[0m\u001b[0;34m.\u001b[0m\u001b[0mindex\u001b[0m\u001b[0;34m(\u001b[0m\u001b[0;34m'z'\u001b[0m\u001b[0;34m)\u001b[0m\u001b[0;34m\u001b[0m\u001b[0;34m\u001b[0m\u001b[0m\n\u001b[0m\u001b[1;32m      4\u001b[0m \u001b[0mprint\u001b[0m\u001b[0;34m(\u001b[0m\u001b[0mindex\u001b[0m\u001b[0;34m)\u001b[0m\u001b[0;34m\u001b[0m\u001b[0;34m\u001b[0m\u001b[0m\n\u001b[1;32m      5\u001b[0m \u001b[0;34m\u001b[0m\u001b[0m\n",
            "\u001b[0;31mValueError\u001b[0m: substring not found"
          ]
        }
      ]
    },
    {
      "cell_type": "code",
      "source": [
        "find = a.find('z')\n",
        "print(find)"
      ],
      "metadata": {
        "colab": {
          "base_uri": "https://localhost:8080/"
        },
        "id": "MKdIT1KSMJXN",
        "outputId": "d0d80150-3a87-4554-aac5-0b7cdf1b1963"
      },
      "execution_count": 22,
      "outputs": [
        {
          "output_type": "stream",
          "name": "stdout",
          "text": [
            "-1\n"
          ]
        }
      ]
    },
    {
      "cell_type": "markdown",
      "source": [
        "### The index() function raises an error if the substring is not found, whereas the find() function returns -1 when the substring is not present."
      ],
      "metadata": {
        "id": "WqRRZ8VPObBM"
      }
    },
    {
      "cell_type": "code",
      "source": [
        "a"
      ],
      "metadata": {
        "colab": {
          "base_uri": "https://localhost:8080/",
          "height": 35
        },
        "id": "k0gYi78uMJLc",
        "outputId": "d078f9e6-5fd6-4aa2-d91b-778282d90394"
      },
      "execution_count": 23,
      "outputs": [
        {
          "output_type": "execute_result",
          "data": {
            "text/plain": [
              "'hello world'"
            ],
            "application/vnd.google.colaboratory.intrinsic+json": {
              "type": "string"
            }
          },
          "metadata": {},
          "execution_count": 23
        }
      ]
    },
    {
      "cell_type": "code",
      "source": [
        "a.find(\"lo\")"
      ],
      "metadata": {
        "colab": {
          "base_uri": "https://localhost:8080/"
        },
        "id": "YTnCiR5ZO8Mu",
        "outputId": "30f02a4e-a87a-45bc-97ca-6c8f9224bb34"
      },
      "execution_count": 26,
      "outputs": [
        {
          "output_type": "execute_result",
          "data": {
            "text/plain": [
              "3"
            ]
          },
          "metadata": {},
          "execution_count": 26
        }
      ]
    },
    {
      "cell_type": "code",
      "source": [
        "a.find(\"world\",6)"
      ],
      "metadata": {
        "colab": {
          "base_uri": "https://localhost:8080/"
        },
        "id": "tnDjYhDXPAd-",
        "outputId": "e192731b-bfae-42d0-c1e7-1f2785951e1d"
      },
      "execution_count": 35,
      "outputs": [
        {
          "output_type": "execute_result",
          "data": {
            "text/plain": [
              "6"
            ]
          },
          "metadata": {},
          "execution_count": 35
        }
      ]
    },
    {
      "cell_type": "markdown",
      "source": [
        "# Given sentence = \"The quick brown fox jumps over the lazy dog\", find the index of the word \"jumps\"."
      ],
      "metadata": {
        "id": "RWGsv8QUTv6_"
      }
    },
    {
      "cell_type": "code",
      "source": [
        "sentence = \"The quick brown fox jumps over the lazy dog\"\n",
        "\n",
        "sentence.find('jumps')"
      ],
      "metadata": {
        "colab": {
          "base_uri": "https://localhost:8080/"
        },
        "id": "1trOcVLVPbH8",
        "outputId": "450f40ae-7bb8-41b1-abcc-69e040e7ba14"
      },
      "execution_count": 43,
      "outputs": [
        {
          "output_type": "execute_result",
          "data": {
            "text/plain": [
              "20"
            ]
          },
          "metadata": {},
          "execution_count": 43
        }
      ]
    },
    {
      "cell_type": "markdown",
      "source": [
        "# What will \"Mississippi\".find('i', 2, 5) return and why?"
      ],
      "metadata": {
        "id": "w15OmmRfUOzd"
      }
    },
    {
      "cell_type": "code",
      "source": [
        "\"Mississippi\".find('i', 2, 5)"
      ],
      "metadata": {
        "colab": {
          "base_uri": "https://localhost:8080/"
        },
        "id": "8fpgSpncUPt4",
        "outputId": "31a279b5-f824-4400-d639-2677e319f298"
      },
      "execution_count": 37,
      "outputs": [
        {
          "output_type": "execute_result",
          "data": {
            "text/plain": [
              "4"
            ]
          },
          "metadata": {},
          "execution_count": 37
        }
      ]
    },
    {
      "cell_type": "markdown",
      "source": [
        "# Replace fn()"
      ],
      "metadata": {
        "id": "Kzc5xPSxY7tb"
      }
    },
    {
      "cell_type": "markdown",
      "source": [
        "# Remove all spaces from a string\n"
      ],
      "metadata": {
        "id": "9TfyKR5NYT6n"
      }
    },
    {
      "cell_type": "code",
      "source": [
        "text = \"H e l l o W o r l d\"\n",
        "clean_text = text.replace(\" \", \"\")\n",
        "print(clean_text)  # Output: \"HelloWorld\""
      ],
      "metadata": {
        "colab": {
          "base_uri": "https://localhost:8080/"
        },
        "id": "-7r2NRgyYW8d",
        "outputId": "50cdebe4-cd20-4427-9288-9d4ce74bbd32"
      },
      "execution_count": 38,
      "outputs": [
        {
          "output_type": "stream",
          "name": "stdout",
          "text": [
            "HelloWorld\n"
          ]
        }
      ]
    },
    {
      "cell_type": "code",
      "source": [
        "text = \"hi!  Hello  world\"\n",
        "print(text)\n",
        "text.replace(\"  \",\" \")"
      ],
      "metadata": {
        "colab": {
          "base_uri": "https://localhost:8080/",
          "height": 53
        },
        "id": "MK-7oCn-YX5B",
        "outputId": "1ad5075a-ddb6-4690-8dcd-05aeb2d702de"
      },
      "execution_count": 41,
      "outputs": [
        {
          "output_type": "stream",
          "name": "stdout",
          "text": [
            "hi!  Hello  world\n"
          ]
        },
        {
          "output_type": "execute_result",
          "data": {
            "text/plain": [
              "'hi! Hello world'"
            ],
            "application/vnd.google.colaboratory.intrinsic+json": {
              "type": "string"
            }
          },
          "metadata": {},
          "execution_count": 41
        }
      ]
    },
    {
      "cell_type": "markdown",
      "source": [
        "# Limiting the Number of Replacements"
      ],
      "metadata": {
        "id": "tOKbgdGrZFXf"
      }
    },
    {
      "cell_type": "code",
      "source": [
        "text = \"one, two, one, three, one, four\"\n",
        "# Replace only the first two occurrences of \"one\"\n",
        "result = text.replace(\"one\", \"1\", 2)\n",
        "print(result)  # Output: \"1, two, 1, three, one, four\""
      ],
      "metadata": {
        "colab": {
          "base_uri": "https://localhost:8080/"
        },
        "id": "iYx3PW1oZGPu",
        "outputId": "61ee5ddf-a2fb-4641-ec56-57b94c68b1ed"
      },
      "execution_count": 42,
      "outputs": [
        {
          "output_type": "stream",
          "name": "stdout",
          "text": [
            "1, two, 1, three, one, four\n"
          ]
        }
      ]
    },
    {
      "cell_type": "markdown",
      "source": [
        "# upper() , lower() ,  capitalize() , title()"
      ],
      "metadata": {
        "id": "88UhY5wjZfBQ"
      }
    },
    {
      "cell_type": "code",
      "source": [
        "sentence = \"The quick brown fox jumps over the lazy dog\"\n",
        "\n",
        "sentence.upper()"
      ],
      "metadata": {
        "colab": {
          "base_uri": "https://localhost:8080/",
          "height": 35
        },
        "id": "wZyqXSlsZIdg",
        "outputId": "47e44d86-9be7-4619-93f6-f0eda98efde9"
      },
      "execution_count": 47,
      "outputs": [
        {
          "output_type": "execute_result",
          "data": {
            "text/plain": [
              "'THE QUICK BROWN FOX JUMPS OVER THE LAZY DOG'"
            ],
            "application/vnd.google.colaboratory.intrinsic+json": {
              "type": "string"
            }
          },
          "metadata": {},
          "execution_count": 47
        }
      ]
    },
    {
      "cell_type": "code",
      "source": [
        "sentence.lower()"
      ],
      "metadata": {
        "colab": {
          "base_uri": "https://localhost:8080/",
          "height": 35
        },
        "id": "cbfaCkxwZvn7",
        "outputId": "f0650f90-8698-4e0a-a1f4-af87c5b9b63e"
      },
      "execution_count": 48,
      "outputs": [
        {
          "output_type": "execute_result",
          "data": {
            "text/plain": [
              "'the quick brown fox jumps over the lazy dog'"
            ],
            "application/vnd.google.colaboratory.intrinsic+json": {
              "type": "string"
            }
          },
          "metadata": {},
          "execution_count": 48
        }
      ]
    },
    {
      "cell_type": "code",
      "source": [
        "sentence.capitalize()"
      ],
      "metadata": {
        "colab": {
          "base_uri": "https://localhost:8080/",
          "height": 35
        },
        "id": "ACdDv3g8Z69c",
        "outputId": "046c630d-05fe-41f6-e604-1b8256d82a07"
      },
      "execution_count": 49,
      "outputs": [
        {
          "output_type": "execute_result",
          "data": {
            "text/plain": [
              "'The quick brown fox jumps over the lazy dog'"
            ],
            "application/vnd.google.colaboratory.intrinsic+json": {
              "type": "string"
            }
          },
          "metadata": {},
          "execution_count": 49
        }
      ]
    },
    {
      "cell_type": "code",
      "source": [
        "sentence.title()"
      ],
      "metadata": {
        "colab": {
          "base_uri": "https://localhost:8080/",
          "height": 35
        },
        "id": "MFffdDFmZ6xl",
        "outputId": "2373b82d-815e-4516-d08a-adab55ed0273"
      },
      "execution_count": 50,
      "outputs": [
        {
          "output_type": "execute_result",
          "data": {
            "text/plain": [
              "'The Quick Brown Fox Jumps Over The Lazy Dog'"
            ],
            "application/vnd.google.colaboratory.intrinsic+json": {
              "type": "string"
            }
          },
          "metadata": {},
          "execution_count": 50
        }
      ]
    },
    {
      "cell_type": "markdown",
      "source": [
        "# Join()"
      ],
      "metadata": {
        "id": "HR0AkN5XdsjT"
      }
    },
    {
      "cell_type": "markdown",
      "source": [
        "# How do you convert the list [\"apple\", \"banana\", \"cherry\"] into the string \"apple,banana,cherry\"?"
      ],
      "metadata": {
        "id": "ZaeepIP5dvph"
      }
    },
    {
      "cell_type": "code",
      "source": [
        "fruits = [\"apple\", \"banana\", \"cherry\"]\n",
        "\n",
        "\",\".join(fruits)"
      ],
      "metadata": {
        "colab": {
          "base_uri": "https://localhost:8080/",
          "height": 35
        },
        "id": "fZKgzBHcduoH",
        "outputId": "9129606b-d8c4-4771-8afe-2184126b88ab"
      },
      "execution_count": 52,
      "outputs": [
        {
          "output_type": "execute_result",
          "data": {
            "text/plain": [
              "'apple,banana,cherry'"
            ],
            "application/vnd.google.colaboratory.intrinsic+json": {
              "type": "string"
            }
          },
          "metadata": {},
          "execution_count": 52
        }
      ]
    },
    {
      "cell_type": "code",
      "source": [
        "fruits = {\"apple\", \"banana\", \"cherry\"}\n",
        "\n",
        "\",\".join(fruits)"
      ],
      "metadata": {
        "colab": {
          "base_uri": "https://localhost:8080/",
          "height": 35
        },
        "id": "ngDI-jzrd64q",
        "outputId": "211171a1-9ed1-431b-b06a-99504dea4dee"
      },
      "execution_count": 54,
      "outputs": [
        {
          "output_type": "execute_result",
          "data": {
            "text/plain": [
              "'apple,cherry,banana'"
            ],
            "application/vnd.google.colaboratory.intrinsic+json": {
              "type": "string"
            }
          },
          "metadata": {},
          "execution_count": 54
        }
      ]
    },
    {
      "cell_type": "markdown",
      "source": [
        "# How do you join list elements with newlines in Python?\n"
      ],
      "metadata": {
        "id": "U558Q0aCfKlN"
      }
    },
    {
      "cell_type": "code",
      "source": [
        "my_list = {\"apple\", \"banana\", \"cherry\"}\n",
        "\n",
        "\"\\n\".join(my_list)"
      ],
      "metadata": {
        "colab": {
          "base_uri": "https://localhost:8080/",
          "height": 35
        },
        "id": "RQE2iFvCesOO",
        "outputId": "817f9336-8007-4b0a-afd1-f4327228ddaa"
      },
      "execution_count": 57,
      "outputs": [
        {
          "output_type": "execute_result",
          "data": {
            "text/plain": [
              "'apple\\ncherry\\nbanana'"
            ],
            "application/vnd.google.colaboratory.intrinsic+json": {
              "type": "string"
            }
          },
          "metadata": {},
          "execution_count": 57
        }
      ]
    },
    {
      "cell_type": "code",
      "source": [
        "text = \"Python\"\n",
        "centered = text.center(39, '-')  # \"-------Python-------\"\n",
        "print(len(centered))"
      ],
      "metadata": {
        "colab": {
          "base_uri": "https://localhost:8080/"
        },
        "id": "5p0E_MzfL6EV",
        "outputId": "d96fcf9d-017f-4a78-fdf9-9ea3d9cede1b"
      },
      "execution_count": 4,
      "outputs": [
        {
          "output_type": "stream",
          "name": "stdout",
          "text": [
            "39\n"
          ]
        }
      ]
    }
  ]
}